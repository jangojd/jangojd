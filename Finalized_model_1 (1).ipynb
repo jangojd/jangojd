{
 "cells": [
  {
   "cell_type": "code",
   "execution_count": 1,
   "id": "330a382d-6abd-4f13-b670-7350c009cc31",
   "metadata": {
    "tags": []
   },
   "outputs": [],
   "source": [
    "%matplotlib inline\n",
    "import pandas as pd\n",
    "import pygwalker\n",
    "\n",
    "import matplotlib.pyplot as plt\n",
    "\n",
    "import seaborn as sns\n",
    "import sklearn\n",
    "import numpy as np\n",
    "\n",
    "import matplotlib.pyplot as plt\n",
    "import numpy as np\n",
    "import pandas as pd\n",
    "import seaborn as sns\n",
    "from category_encoders import OneHotEncoder\n",
    "from category_encoders import OrdinalEncoder\n",
    "from sklearn.tree import DecisionTreeClassifier\n",
    "\n",
    "from IPython.display import VimeoVideo\n",
    "\n",
    "from sklearn.metrics import accuracy_score\n",
    "from sklearn.model_selection import train_test_split\n",
    "from sklearn.pipeline import Pipeline, make_pipeline\n",
    "from sklearn.compose import make_column_transformer\n",
    "from sklearn.pipeline import make_pipeline\n",
    "from sklearn.ensemble import RandomForestClassifier\n",
    "# Define the features and target"
   ]
  },
  {
   "cell_type": "markdown",
   "id": "6d6c77a2-ead7-465a-bffe-2fd94dd9fbe4",
   "metadata": {},
   "source": [
    "# wrangling"
   ]
  },
  {
   "cell_type": "code",
   "execution_count": 2,
   "id": "d4451d0b-6c03-4f88-968a-41aae2dc56b0",
   "metadata": {
    "tags": []
   },
   "outputs": [],
   "source": [
    "def wrangle(filename):\n",
    "    df=pd.read_excel(filename)\n",
    "    \n",
    "    #Converting Numerical Data into float \n",
    "    df['Gravity (API)'] = df['Gravity (API)'].replace('-', np.nan)\n",
    "\n",
    "# convert the \"Gravity (API)\" column to float\n",
    "    df['Gravity (API)'] = df['Gravity (API)'].astype(float)\n",
    "\n",
    "    #converting Area \n",
    "    df[\"Area_acres\"]=df[\"Area_acres\"].replace(\"-\",np.nan)\n",
    "    df[\"Area_acres\"]=df[\"Area_acres\"].astype(float)\n",
    "    \n",
    "    # Converting tTempratute \n",
    "    df[\"Temprature_F\"]=df[\"Temprature_F\"].replace(\"-\",np.nan)\n",
    "    df[\"Temprature_F\"]=df[\"Temprature_F\"].astype(float)\n",
    "\n",
    "    # converting porositry \n",
    "    df[\"Porosity_%\"]=df[\"Porosity_%\"].replace(\"-\",np.nan)\n",
    "    df[\"Porosity_%\"]=df[\"Porosity_%\"].astype(float)\n",
    "    \n",
    "    df[\"permeability_md\"]=df[\"permeability_md\"].replace(\"-\",np.nan)\n",
    "    df[\"permeability_md\"]=df[\"permeability_md\"].astype(float) \n",
    "    \n",
    "    \n",
    "    #viscosity\n",
    "    #renaming the column\n",
    "    df = df.rename(columns={\"Viscosity_cp \": \"Viscosity_cp\"})\n",
    "    df[\"Viscosity_cp\"]=df[\"Viscosity_cp\"].replace(\"-\",np.nan)\n",
    "    df[\"Viscosity_cp\"]=df[\"Viscosity_cp\"].astype(float)\n",
    "    #saturation\n",
    "    df[\"sat_%_100\"]=df[\"sat_%_100\"].replace(\"-\",np.nan)\n",
    "    df[\"sat_%_100\"]=df[\"sat_%_100\"].astype(float)\n",
    "    #dropping Unnecessary columns\n",
    "    df.drop(columns=[\"Unnamed: 0\",\"Unnamed: 12\",\"Unnamed: 13\",\"Country\"],inplace=True)\n",
    "    # removing  \"_from the eor method column\"\n",
    "    df.replace(\"-\",\"\",regex=True)\n",
    "    df[\"EOR_method\"]=df[\"EOR _method\"].str.replace(\"_\",\"\",regex=True)\n",
    "    df.drop(columns=\"EOR _method\",inplace=True)\n",
    "    #Imputing Missing Values with mean \n",
    "    df[[\"Area_acres\", 'permeability_md',\"Viscosity_cp\",\"Temprature_F\",\"Gravity (API)\",\"sat_%_100\"]] = df[[\"Area_acres\", \"permeability_md\",\"Viscosity_cp\",\"Temprature_F\",\"Gravity (API)\",\"sat_%_100\"]].fillna(df[[\"Area_acres\",\"permeability_md\",\"Viscosity_cp\",\"Temprature_F\",\"Gravity (API)\",\"sat_%_100\"]].median())\n",
    "    # chaniging into string\n",
    "    df['Formation '] = df['Formation '].str.replace(\".\",\"\",regex=True)\n",
    "    df['Formation '] = df['Formation '].str.replace(\"/\",\"or\",regex=True)\n",
    "    #df['sat_%_100'] = df['sat_%_100'].astype(float)\n",
    "    df[\"Formation \"] = df[\"Formation \"].astype(\"category\")\n",
    "\n",
    "\n",
    "    \n",
    "\n",
    "    \n",
    "    return df"
   ]
  },
  {
   "cell_type": "code",
   "execution_count": 3,
   "id": "17e4f3bf-988d-4f8e-b2c1-4d755aa1697d",
   "metadata": {
    "tags": []
   },
   "outputs": [],
   "source": [
    "df= wrangle(r\"C:\\Users\\Hp\\Downloads\\final updated9(1).xlsx\")"
   ]
  },
  {
   "cell_type": "code",
   "execution_count": 4,
   "id": "aaae9981-18d5-4bad-b59e-1564b563a548",
   "metadata": {
    "tags": []
   },
   "outputs": [
    {
     "data": {
      "text/plain": [
       "S               329\n",
       "Dolo            115\n",
       "Carb             70\n",
       "Sh               65\n",
       "LS               64\n",
       "US               35\n",
       "Tripol           34\n",
       "Cong             30\n",
       "LS or Dolo        9\n",
       "LSDolo            2\n",
       "L                 1\n",
       "DoloorTripol      1\n",
       "LSorDolo          1\n",
       "Dolo or S         1\n",
       "SS                1\n",
       "Congl             1\n",
       "SorLS-Dolo        1\n",
       "Name: Formation , dtype: int64"
      ]
     },
     "execution_count": 4,
     "metadata": {},
     "output_type": "execute_result"
    }
   ],
   "source": [
    "df[\"Formation \"].value_counts()"
   ]
  },
  {
   "cell_type": "code",
   "execution_count": 5,
   "id": "26f03b30-50c0-49d6-bfa1-859a1d9ee247",
   "metadata": {
    "tags": []
   },
   "outputs": [],
   "source": [
    "df.dropna(inplace=True)"
   ]
  },
  {
   "cell_type": "code",
   "execution_count": null,
   "id": "554fa8e8-b9ec-44de-be61-18468da24f7b",
   "metadata": {
    "tags": []
   },
   "outputs": [],
   "source": []
  },
  {
   "cell_type": "markdown",
   "id": "1f3b1a9c-366a-4dc3-bdca-a46df1816ce4",
   "metadata": {},
   "source": [
    "# after adding synthetic data pychart"
   ]
  },
  {
   "cell_type": "code",
   "execution_count": 6,
   "id": "a9e64ba1-eaa5-486a-a909-04532b83e7cd",
   "metadata": {
    "tags": []
   },
   "outputs": [],
   "source": [
    "# Target Values before Over Sampling \n",
    "import matplotlib.pyplot as plt"
   ]
  },
  {
   "cell_type": "code",
   "execution_count": 7,
   "id": "376999b7-0dda-4fcb-93cb-bb08525167b1",
   "metadata": {
    "tags": []
   },
   "outputs": [
    {
     "data": {
      "text/plain": [
       "<Axes: ylabel='EOR_method'>"
      ]
     },
     "execution_count": 7,
     "metadata": {},
     "output_type": "execute_result"
    },
    {
     "data": {
      "image/png": "[encoded data removed]",
      "text/plain": [
       "<Figure size 900x900 with 1 Axes>"
      ]
     },
     "metadata": {},
     "output_type": "display_data"
    }
   ],
   "source": [
    "ax=plt.subplot()\n",
    "df[\"EOR_method\"].value_counts().plot.pie(autopct=\"%.2f\", figsize=(9, 9))"
   ]
  },
  {
   "cell_type": "code",
   "execution_count": 8,
   "id": "cd6f0994-14c0-4b61-94df-4536f58d3c43",
   "metadata": {
    "tags": []
   },
   "outputs": [
    {
     "name": "stdout",
     "output_type": "stream",
     "text": [
      "Area_acres 397 label\n",
      "Formation  17 label\n",
      "Porosity_% 228 label\n",
      "permeability_md 367 label\n",
      "Depth_ft 309 label\n",
      "Gravity (API) 219 label\n",
      "Viscosity_cp 202 label\n",
      "Temprature_F 172 label\n",
      "sat_%_100 145 label\n",
      "EOR_method 10 label\n"
     ]
    }
   ],
   "source": [
    "# cheking unique values in dataframe\n",
    "for col in df.columns:\n",
    "    print(col,len((df[col].unique())),\"label\")"
   ]
  },
  {
   "cell_type": "code",
   "execution_count": 9,
   "id": "7fd01c45-9428-43a5-a0d0-6e6bbaef71f1",
   "metadata": {
    "tags": []
   },
   "outputs": [
    {
     "name": "stdout",
     "output_type": "stream",
     "text": [
      "<class 'pandas.core.frame.DataFrame'>\n",
      "Int64Index: 758 entries, 0 to 759\n",
      "Data columns (total 10 columns):\n",
      " #   Column           Non-Null Count  Dtype   \n",
      "---  ------           --------------  -----   \n",
      " 0   Area_acres       758 non-null    float64 \n",
      " 1   Formation        758 non-null    category\n",
      " 2   Porosity_%       758 non-null    float64 \n",
      " 3   permeability_md  758 non-null    float64 \n",
      " 4   Depth_ft         758 non-null    int64   \n",
      " 5   Gravity (API)    758 non-null    float64 \n",
      " 6   Viscosity_cp     758 non-null    float64 \n",
      " 7   Temprature_F     758 non-null    float64 \n",
      " 8   sat_%_100        758 non-null    float64 \n",
      " 9   EOR_method       758 non-null    object  \n",
      "dtypes: category(1), float64(7), int64(1), object(1)\n",
      "memory usage: 60.6+ KB\n"
     ]
    }
   ],
   "source": [
    "df.info()\n"
   ]
  },
  {
   "cell_type": "code",
   "execution_count": 10,
   "id": "3c6480b1-6788-4cef-b78f-d0b52ab3b151",
   "metadata": {},
   "outputs": [
    {
     "data": {
      "text/html": [
       "<div>\n",
       "<style scoped>\n",
       "    .dataframe tbody tr th:only-of-type {\n",
       "        vertical-align: middle;\n",
       "    }\n",
       "\n",
       "    .dataframe tbody tr th {\n",
       "        vertical-align: top;\n",
       "    }\n",
       "\n",
       "    .dataframe thead th {\n",
       "        text-align: right;\n",
       "    }\n",
       "</style>\n",
       "<table border=\"1\" class=\"dataframe\">\n",
       "  <thead>\n",
       "    <tr style=\"text-align: right;\">\n",
       "      <th></th>\n",
       "      <th>Area_acres</th>\n",
       "      <th>Formation</th>\n",
       "      <th>Porosity_%</th>\n",
       "      <th>permeability_md</th>\n",
       "      <th>Depth_ft</th>\n",
       "      <th>Gravity (API)</th>\n",
       "      <th>Viscosity_cp</th>\n",
       "      <th>Temprature_F</th>\n",
       "      <th>sat_%_100</th>\n",
       "      <th>EOR_method</th>\n",
       "    </tr>\n",
       "  </thead>\n",
       "  <tbody>\n",
       "    <tr>\n",
       "      <th>0</th>\n",
       "      <td>4500.0</td>\n",
       "      <td>US</td>\n",
       "      <td>35.0</td>\n",
       "      <td>2700.0</td>\n",
       "      <td>850</td>\n",
       "      <td>135.0</td>\n",
       "      <td>1900.0</td>\n",
       "      <td>95.0</td>\n",
       "      <td>75.0</td>\n",
       "      <td>Steam</td>\n",
       "    </tr>\n",
       "    <tr>\n",
       "      <th>1</th>\n",
       "      <td>30.0</td>\n",
       "      <td>S</td>\n",
       "      <td>60.0</td>\n",
       "      <td>1.0</td>\n",
       "      <td>1400</td>\n",
       "      <td>28.0</td>\n",
       "      <td>6.0</td>\n",
       "      <td>110.0</td>\n",
       "      <td>45.0</td>\n",
       "      <td>Steam</td>\n",
       "    </tr>\n",
       "    <tr>\n",
       "      <th>2</th>\n",
       "      <td>1000.0</td>\n",
       "      <td>S</td>\n",
       "      <td>32.0</td>\n",
       "      <td>750.0</td>\n",
       "      <td>3500</td>\n",
       "      <td>9.0</td>\n",
       "      <td>15000.0</td>\n",
       "      <td>155.0</td>\n",
       "      <td>55.0</td>\n",
       "      <td>Steam</td>\n",
       "    </tr>\n",
       "    <tr>\n",
       "      <th>3</th>\n",
       "      <td>550.0</td>\n",
       "      <td>S</td>\n",
       "      <td>32.0</td>\n",
       "      <td>1350.0</td>\n",
       "      <td>12375</td>\n",
       "      <td>125.0</td>\n",
       "      <td>21000.0</td>\n",
       "      <td>91.0</td>\n",
       "      <td>60.0</td>\n",
       "      <td>Steam</td>\n",
       "    </tr>\n",
       "    <tr>\n",
       "      <th>4</th>\n",
       "      <td>260.0</td>\n",
       "      <td>S</td>\n",
       "      <td>34.0</td>\n",
       "      <td>800.0</td>\n",
       "      <td>825</td>\n",
       "      <td>95.0</td>\n",
       "      <td>19750.0</td>\n",
       "      <td>84.0</td>\n",
       "      <td>55.0</td>\n",
       "      <td>Steam</td>\n",
       "    </tr>\n",
       "  </tbody>\n",
       "</table>\n",
       "</div>"
      ],
      "text/plain": [
       "   Area_acres Formation   Porosity_%  permeability_md  Depth_ft  \\\n",
       "0      4500.0         US        35.0           2700.0       850   \n",
       "1        30.0          S        60.0              1.0      1400   \n",
       "2      1000.0          S        32.0            750.0      3500   \n",
       "3       550.0          S        32.0           1350.0     12375   \n",
       "4       260.0          S        34.0            800.0       825   \n",
       "\n",
       "   Gravity (API)  Viscosity_cp  Temprature_F  sat_%_100 EOR_method  \n",
       "0          135.0        1900.0          95.0       75.0      Steam  \n",
       "1           28.0           6.0         110.0       45.0      Steam  \n",
       "2            9.0       15000.0         155.0       55.0      Steam  \n",
       "3          125.0       21000.0          91.0       60.0      Steam  \n",
       "4           95.0       19750.0          84.0       55.0      Steam  "
      ]
     },
     "execution_count": 10,
     "metadata": {},
     "output_type": "execute_result"
    }
   ],
   "source": [
    "df.head()"
   ]
  },
  {
   "cell_type": "markdown",
   "id": "4a2d33b8-7ca2-492d-b43c-45900d105430",
   "metadata": {},
   "source": [
    "# cheking correlation"
   ]
  },
  {
   "cell_type": "code",
   "execution_count": 11,
   "id": "86fd014e-66f8-4471-8b27-2b7d286a117f",
   "metadata": {},
   "outputs": [
    {
     "data": {
      "text/html": [
       "<div>\n",
       "<style scoped>\n",
       "    .dataframe tbody tr th:only-of-type {\n",
       "        vertical-align: middle;\n",
       "    }\n",
       "\n",
       "    .dataframe tbody tr th {\n",
       "        vertical-align: top;\n",
       "    }\n",
       "\n",
       "    .dataframe thead th {\n",
       "        text-align: right;\n",
       "    }\n",
       "</style>\n",
       "<table border=\"1\" class=\"dataframe\">\n",
       "  <thead>\n",
       "    <tr style=\"text-align: right;\">\n",
       "      <th></th>\n",
       "      <th>Area_acres</th>\n",
       "      <th>Porosity_%</th>\n",
       "      <th>permeability_md</th>\n",
       "      <th>Depth_ft</th>\n",
       "      <th>Gravity (API)</th>\n",
       "      <th>Viscosity_cp</th>\n",
       "      <th>Temprature_F</th>\n",
       "      <th>sat_%_100</th>\n",
       "    </tr>\n",
       "  </thead>\n",
       "  <tbody>\n",
       "    <tr>\n",
       "      <th>Area_acres</th>\n",
       "      <td>1.000000</td>\n",
       "      <td>-0.026915</td>\n",
       "      <td>-0.190367</td>\n",
       "      <td>0.259332</td>\n",
       "      <td>-0.154104</td>\n",
       "      <td>-0.093752</td>\n",
       "      <td>0.248816</td>\n",
       "      <td>0.045580</td>\n",
       "    </tr>\n",
       "    <tr>\n",
       "      <th>Porosity_%</th>\n",
       "      <td>-0.026915</td>\n",
       "      <td>1.000000</td>\n",
       "      <td>0.072161</td>\n",
       "      <td>0.052698</td>\n",
       "      <td>0.569283</td>\n",
       "      <td>-0.064526</td>\n",
       "      <td>0.021306</td>\n",
       "      <td>0.468458</td>\n",
       "    </tr>\n",
       "    <tr>\n",
       "      <th>permeability_md</th>\n",
       "      <td>-0.190367</td>\n",
       "      <td>0.072161</td>\n",
       "      <td>1.000000</td>\n",
       "      <td>-0.332228</td>\n",
       "      <td>0.103745</td>\n",
       "      <td>0.167643</td>\n",
       "      <td>-0.013109</td>\n",
       "      <td>-0.047861</td>\n",
       "    </tr>\n",
       "    <tr>\n",
       "      <th>Depth_ft</th>\n",
       "      <td>0.259332</td>\n",
       "      <td>0.052698</td>\n",
       "      <td>-0.332228</td>\n",
       "      <td>1.000000</td>\n",
       "      <td>-0.036092</td>\n",
       "      <td>-0.196682</td>\n",
       "      <td>0.704799</td>\n",
       "      <td>-0.058015</td>\n",
       "    </tr>\n",
       "    <tr>\n",
       "      <th>Gravity (API)</th>\n",
       "      <td>-0.154104</td>\n",
       "      <td>0.569283</td>\n",
       "      <td>0.103745</td>\n",
       "      <td>-0.036092</td>\n",
       "      <td>1.000000</td>\n",
       "      <td>-0.102102</td>\n",
       "      <td>-0.170448</td>\n",
       "      <td>0.312848</td>\n",
       "    </tr>\n",
       "    <tr>\n",
       "      <th>Viscosity_cp</th>\n",
       "      <td>-0.093752</td>\n",
       "      <td>-0.064526</td>\n",
       "      <td>0.167643</td>\n",
       "      <td>-0.196682</td>\n",
       "      <td>-0.102102</td>\n",
       "      <td>1.000000</td>\n",
       "      <td>-0.152647</td>\n",
       "      <td>-0.053258</td>\n",
       "    </tr>\n",
       "    <tr>\n",
       "      <th>Temprature_F</th>\n",
       "      <td>0.248816</td>\n",
       "      <td>0.021306</td>\n",
       "      <td>-0.013109</td>\n",
       "      <td>0.704799</td>\n",
       "      <td>-0.170448</td>\n",
       "      <td>-0.152647</td>\n",
       "      <td>1.000000</td>\n",
       "      <td>0.171886</td>\n",
       "    </tr>\n",
       "    <tr>\n",
       "      <th>sat_%_100</th>\n",
       "      <td>0.045580</td>\n",
       "      <td>0.468458</td>\n",
       "      <td>-0.047861</td>\n",
       "      <td>-0.058015</td>\n",
       "      <td>0.312848</td>\n",
       "      <td>-0.053258</td>\n",
       "      <td>0.171886</td>\n",
       "      <td>1.000000</td>\n",
       "    </tr>\n",
       "  </tbody>\n",
       "</table>\n",
       "</div>"
      ],
      "text/plain": [
       "                 Area_acres  Porosity_%  permeability_md  Depth_ft  \\\n",
       "Area_acres         1.000000   -0.026915        -0.190367  0.259332   \n",
       "Porosity_%        -0.026915    1.000000         0.072161  0.052698   \n",
       "permeability_md   -0.190367    0.072161         1.000000 -0.332228   \n",
       "Depth_ft           0.259332    0.052698        -0.332228  1.000000   \n",
       "Gravity (API)     -0.154104    0.569283         0.103745 -0.036092   \n",
       "Viscosity_cp      -0.093752   -0.064526         0.167643 -0.196682   \n",
       "Temprature_F       0.248816    0.021306        -0.013109  0.704799   \n",
       "sat_%_100          0.045580    0.468458        -0.047861 -0.058015   \n",
       "\n",
       "                 Gravity (API)  Viscosity_cp  Temprature_F  sat_%_100  \n",
       "Area_acres           -0.154104     -0.093752      0.248816   0.045580  \n",
       "Porosity_%            0.569283     -0.064526      0.021306   0.468458  \n",
       "permeability_md       0.103745      0.167643     -0.013109  -0.047861  \n",
       "Depth_ft             -0.036092     -0.196682      0.704799  -0.058015  \n",
       "Gravity (API)         1.000000     -0.102102     -0.170448   0.312848  \n",
       "Viscosity_cp         -0.102102      1.000000     -0.152647  -0.053258  \n",
       "Temprature_F         -0.170448     -0.152647      1.000000   0.171886  \n",
       "sat_%_100             0.312848     -0.053258      0.171886   1.000000  "
      ]
     },
     "execution_count": 11,
     "metadata": {},
     "output_type": "execute_result"
    }
   ],
   "source": [
    "\n",
    "\n",
    "#correlation=df.select_dtypes(\"number\").drop(columns=\"EOR _method\").corr()\n",
    "correlation= df.select_dtypes(\"number\").corr()\n",
    "correlation"
   ]
  },
  {
   "cell_type": "code",
   "execution_count": null,
   "id": "5899438e-93c1-448e-9c49-dd1342d19c46",
   "metadata": {
    "tags": []
   },
   "outputs": [],
   "source": [
    "\n"
   ]
  },
  {
   "cell_type": "code",
   "execution_count": 12,
   "id": "e1d360bb-21e7-4e5d-8740-69d2819d31a8",
   "metadata": {
    "tags": []
   },
   "outputs": [
    {
     "data": {
      "text/plain": [
       "<Axes: >"
      ]
     },
     "execution_count": 12,
     "metadata": {},
     "output_type": "execute_result"
    },
    {
     "data": {
      "image/png": "[encoded data removed]",
      "text/plain": [
       "<Figure size 640x480 with 2 Axes>"
      ]
     },
     "metadata": {},
     "output_type": "display_data"
    }
   ],
   "source": [
    "sns.heatmap(correlation)"
   ]
  },
  {
   "cell_type": "code",
   "execution_count": 13,
   "id": "618cee14-726c-49f9-846f-f978dabefd81",
   "metadata": {
    "tags": []
   },
   "outputs": [],
   "source": [
    "\n",
    "df[[\"Area_acres\", 'permeability_md',\"Viscosity_cp\",\"Temprature_F\",\"Gravity (API)\"]] = df[[\"Area_acres\", \"permeability_md\",\"Viscosity_cp\",\"Temprature_F\",\"Gravity (API)\"]].fillna(df[[\"Area_acres\",\"permeability_md\",\"Viscosity_cp\",\"Temprature_F\",\"Gravity (API)\" ]].mean())"
   ]
  },
  {
   "cell_type": "code",
   "execution_count": 14,
   "id": "bdc8d214-c733-4702-b45a-d186ca2b5e04",
   "metadata": {
    "tags": []
   },
   "outputs": [
    {
     "data": {
      "text/plain": [
       "Area_acres         0\n",
       "Formation          0\n",
       "Porosity_%         0\n",
       "permeability_md    0\n",
       "Depth_ft           0\n",
       "Gravity (API)      0\n",
       "Viscosity_cp       0\n",
       "Temprature_F       0\n",
       "sat_%_100          0\n",
       "EOR_method         0\n",
       "dtype: int64"
      ]
     },
     "execution_count": 14,
     "metadata": {},
     "output_type": "execute_result"
    }
   ],
   "source": [
    "df.isna().sum()# "
   ]
  },
  {
   "cell_type": "code",
   "execution_count": null,
   "id": "8eccdf18-7bd0-488f-98ec-a70125e6a329",
   "metadata": {
    "tags": []
   },
   "outputs": [],
   "source": []
  },
  {
   "cell_type": "code",
   "execution_count": 15,
   "id": "cd696c8d-52cf-4626-b592-dc61a85845a1",
   "metadata": {
    "tags": []
   },
   "outputs": [
    {
     "data": {
      "text/plain": [
       "(array([0, 1, 2, 3, 4, 5, 6, 7, 8, 9]),\n",
       " [Text(0, 0, 'Steam'),\n",
       "  Text(1, 0, 'Microbial'),\n",
       "  Text(2, 0, 'Polymer/che'),\n",
       "  Text(3, 0, 'N2Imiscible'),\n",
       "  Text(4, 0, 'C02Missible'),\n",
       "  Text(5, 0, 'CO2im'),\n",
       "  Text(6, 0, 'Combustion'),\n",
       "  Text(7, 0, 'HCmissible'),\n",
       "  Text(8, 0, 'N2miscible'),\n",
       "  Text(9, 0, 'HCimmicible')])"
      ]
     },
     "execution_count": 15,
     "metadata": {},
     "output_type": "execute_result"
    },
    {
     "data": {
      "image/png": "[encoded data removed]",
      "text/plain": [
       "<Figure size 1600x800 with 1 Axes>"
      ]
     },
     "metadata": {},
     "output_type": "display_data"
    }
   ],
   "source": [
    "\n",
    "# create a larger figure\n",
    "plt.figure(figsize=(16, 8))\n",
    "\n",
    "# create the boxplot with wider spacing between boxes\n",
    "sns.boxplot(x=\"EOR_method\", y=\"Depth_ft\", data=df, ax=plt.gca(), width=0.6, linewidth=1.5)\n",
    "\n",
    "# add x-axis label\n",
    "plt.xlabel(\"EOR Method\", fontsize=16)\n",
    "\n",
    "# add y-axis label\n",
    "plt.ylabel(\"Depth (ft)\", fontsize=16)\n",
    "\n",
    "# adjust x-axis tick label size and rotation\n",
    "plt.xticks(fontsize=14, rotation=45, ha='right')\n",
    "\n",
    "# adjust y-axis tick lab"
   ]
  },
  {
   "cell_type": "code",
   "execution_count": 16,
   "id": "46950545-89f6-43bb-b7c9-d25f57abfb49",
   "metadata": {
    "tags": []
   },
   "outputs": [
    {
     "data": {
      "text/plain": [
       "18500"
      ]
     },
     "execution_count": 16,
     "metadata": {},
     "output_type": "execute_result"
    }
   ],
   "source": [
    "\n",
    "# maximum depth\n",
    "df[\"Depth_ft\"].max()"
   ]
  },
  {
   "cell_type": "markdown",
   "id": "f7d1f249-6ad3-492b-86e8-ef93250f4476",
   "metadata": {},
   "source": [
    "# checking data if its balanced or imbalanced"
   ]
  },
  {
   "cell_type": "code",
   "execution_count": 17,
   "id": "996ae073-6c25-43a7-9a9e-da4fb6f1a2c3",
   "metadata": {
    "tags": []
   },
   "outputs": [],
   "source": [
    "# df[\"EOR_method\"].value_counts(normalize=True).plot(\n",
    "# kind=\"bar\",xlabel=\"class\",ylabel=\"relative_frequency\",title=\"Class Balance\"\n",
    "# )\n",
    "# plt.savefig('bar_chart.png')  # Save the plot as an image file"
   ]
  },
  {
   "cell_type": "code",
   "execution_count": 18,
   "id": "5c9b582e-db20-451a-9852-4a94983f8211",
   "metadata": {
    "tags": []
   },
   "outputs": [
    {
     "name": "stdout",
     "output_type": "stream",
     "text": [
      "<class 'pandas.core.frame.DataFrame'>\n",
      "Int64Index: 758 entries, 0 to 759\n",
      "Data columns (total 10 columns):\n",
      " #   Column           Non-Null Count  Dtype   \n",
      "---  ------           --------------  -----   \n",
      " 0   Area_acres       758 non-null    float64 \n",
      " 1   Formation        758 non-null    category\n",
      " 2   Porosity_%       758 non-null    float64 \n",
      " 3   permeability_md  758 non-null    float64 \n",
      " 4   Depth_ft         758 non-null    int64   \n",
      " 5   Gravity (API)    758 non-null    float64 \n",
      " 6   Viscosity_cp     758 non-null    float64 \n",
      " 7   Temprature_F     758 non-null    float64 \n",
      " 8   sat_%_100        758 non-null    float64 \n",
      " 9   EOR_method       758 non-null    object  \n",
      "dtypes: category(1), float64(7), int64(1), object(1)\n",
      "memory usage: 60.6+ KB\n"
     ]
    }
   ],
   "source": [
    "df.info()"
   ]
  },
  {
   "cell_type": "code",
   "execution_count": 19,
   "id": "a3570fa2-6aaf-4a0f-88c4-833149b27fde",
   "metadata": {},
   "outputs": [
    {
     "data": {
      "text/plain": [
       "0          US\n",
       "1           S\n",
       "2           S\n",
       "3           S\n",
       "4           S\n",
       "        ...  \n",
       "755        LS\n",
       "756      Cong\n",
       "757      Dolo\n",
       "758        US\n",
       "759    Tripol\n",
       "Name: Formation , Length: 758, dtype: category\n",
       "Categories (17, object): ['Carb', 'Cong', 'Congl', 'Dolo', ..., 'Sh', 'SorLS-Dolo', 'Tripol', 'US']"
      ]
     },
     "execution_count": 19,
     "metadata": {},
     "output_type": "execute_result"
    }
   ],
   "source": [
    "df[\"Formation \"]"
   ]
  },
  {
   "cell_type": "markdown",
   "id": "1f0791f4-a0b2-464b-8349-63720c846f37",
   "metadata": {
    "tags": []
   },
   "source": [
    "# Oversampling and split Data"
   ]
  },
  {
   "cell_type": "code",
   "execution_count": 20,
   "id": "df8f7533-6c74-4caf-9715-12c1281f46c8",
   "metadata": {
    "tags": []
   },
   "outputs": [],
   "source": [
    "from imblearn.over_sampling import SMOTE\n",
    "from sklearn.preprocessing import OneHotEncoder\n",
    "from sklearn.tree import DecisionTreeClassifier\n",
    "feature = df.drop(columns=\"EOR_method\",axis=1)\n",
    "X = feature\n",
    "y = df[\"EOR_method\"]"
   ]
  },
  {
   "cell_type": "code",
   "execution_count": 21,
   "id": "66026a96-c32d-4e97-b522-5915bb6a3b78",
   "metadata": {
    "tags": []
   },
   "outputs": [],
   "source": [
    "from imblearn.over_sampling import RandomOverSampler\n",
    "\n",
    "# Assuming you have X and y as your features and target variables respectively\n",
    "\n",
    "# Create an instance of RandomOverSampler\n",
    "oversampler = RandomOverSampler()\n",
    "\n",
    "# Apply oversampling to your data\n",
    "X_oversampled, y_oversampled = oversampler.fit_resample(X, y)"
   ]
  },
  {
   "cell_type": "code",
   "execution_count": 22,
   "id": "94eb38de-a509-4f2e-b42b-0c409293ce28",
   "metadata": {
    "tags": []
   },
   "outputs": [
    {
     "data": {
      "text/plain": [
       "Area_acres         0\n",
       "Formation          0\n",
       "Porosity_%         0\n",
       "permeability_md    0\n",
       "Depth_ft           0\n",
       "Gravity (API)      0\n",
       "Viscosity_cp       0\n",
       "Temprature_F       0\n",
       "sat_%_100          0\n",
       "dtype: int64"
      ]
     },
     "execution_count": 22,
     "metadata": {},
     "output_type": "execute_result"
    }
   ],
   "source": [
    "X_oversampled.isna().sum()"
   ]
  },
  {
   "cell_type": "code",
   "execution_count": 23,
   "id": "d7362d49-ef85-4137-87f9-f51657817251",
   "metadata": {
    "tags": []
   },
   "outputs": [],
   "source": [
    "\n",
    "# from sklearn.model_selection import StratifiedShuffleSplit\n",
    "# import pandas as pd\n",
    "\n",
    "# split = StratifiedShuffleSplit(n_splits=1, test_size=0.3, random_state=42)\n",
    "# for train_index, test_index in split.split(df, pd.Series(df[\"EOR_method\"])):\n",
    "#     s_train_set = df.iloc[train_index]\n",
    "#     s_test_set = df.iloc[test_index]"
   ]
  },
  {
   "cell_type": "code",
   "execution_count": 24,
   "id": "83438df6-3624-468e-85ab-7f92b68b9c41",
   "metadata": {
    "tags": []
   },
   "outputs": [
    {
     "data": {
      "text/plain": [
       "1080"
      ]
     },
     "execution_count": 24,
     "metadata": {},
     "output_type": "execute_result"
    }
   ],
   "source": [
    "y_oversampled.value_counts().sum()"
   ]
  },
  {
   "cell_type": "code",
   "execution_count": 25,
   "id": "ef586dd7-90ca-4c81-84c6-841f0d4cec04",
   "metadata": {
    "tags": []
   },
   "outputs": [],
   "source": [
    "# X_train = s_train_set.drop(\"EOR_method\", axis=1)\n",
    "# y_train = s_train_set[\"EOR_method\"]\n",
    "\n",
    "# # Extracting features and target variable from the test set\n",
    "# X_test = s_test_set.drop(\"EOR_method\", axis=1)\n",
    "# y_test = s_test_set[\"EOR_method\"]"
   ]
  },
  {
   "cell_type": "code",
   "execution_count": null,
   "id": "1a06423c-6c90-4192-9168-b4f51608a0e7",
   "metadata": {
    "tags": []
   },
   "outputs": [],
   "source": []
  },
  {
   "cell_type": "markdown",
   "id": "6ac43c9b-eb1d-4182-bb50-8f5686e2b3fd",
   "metadata": {},
   "source": []
  },
  {
   "cell_type": "code",
   "execution_count": null,
   "id": "76a07d49-7931-4b88-b6cc-d1fa659046e2",
   "metadata": {
    "tags": []
   },
   "outputs": [],
   "source": []
  },
  {
   "cell_type": "code",
   "execution_count": 26,
   "id": "591fc264-7de6-41fd-aa66-4af560d764b9",
   "metadata": {
    "tags": []
   },
   "outputs": [
    {
     "name": "stdout",
     "output_type": "stream",
     "text": [
      "X_train shape: (756, 9)\n",
      "y_train shape: (756,)\n",
      "X_test shape: (324, 9)\n",
      "y_test shape: (324,)\n"
     ]
    }
   ],
   "source": [
    "# Split the oversampled data into train and test sets\n",
    "from sklearn.model_selection import train_test_split\n",
    "\n",
    "# Split the oversampled data into train and test sets\n",
    "X_train, X_test, y_train, y_test = train_test_split(X_oversampled, y_oversampled, test_size=0.3, random_state=42)\n",
    "\n",
    "print(\"X_train shape:\", X_train.shape)\n",
    "print(\"y_train shape:\", y_train.shape)\n",
    "print(\"X_test shape:\", X_test.shape)  # Corrected print statement\n",
    "print(\"y_test shape:\", y_test.shape)  # Corrected print statement\n"
   ]
  },
  {
   "cell_type": "code",
   "execution_count": 27,
   "id": "e425fe94-e887-44e6-9181-389fd2fb742f",
   "metadata": {
    "tags": []
   },
   "outputs": [],
   "source": [
    "from pandas.plotting import scatter_matrix"
   ]
  },
  {
   "cell_type": "code",
   "execution_count": 28,
   "id": "17099bb0-3c06-43aa-8b12-1cad7a46e8cb",
   "metadata": {
    "tags": []
   },
   "outputs": [
    {
     "data": {
      "text/plain": [
       "array([[<Axes: xlabel='Porosity_%', ylabel='Porosity_%'>,\n",
       "        <Axes: xlabel='Depth_ft', ylabel='Porosity_%'>,\n",
       "        <Axes: xlabel='Viscosity_cp', ylabel='Porosity_%'>],\n",
       "       [<Axes: xlabel='Porosity_%', ylabel='Depth_ft'>,\n",
       "        <Axes: xlabel='Depth_ft', ylabel='Depth_ft'>,\n",
       "        <Axes: xlabel='Viscosity_cp', ylabel='Depth_ft'>],\n",
       "       [<Axes: xlabel='Porosity_%', ylabel='Viscosity_cp'>,\n",
       "        <Axes: xlabel='Depth_ft', ylabel='Viscosity_cp'>,\n",
       "        <Axes: xlabel='Viscosity_cp', ylabel='Viscosity_cp'>]],\n",
       "      dtype=object)"
      ]
     },
     "execution_count": 28,
     "metadata": {},
     "output_type": "execute_result"
    },
    {
     "data": {
      "image/png": "[encoded data removed]",
      "text/plain": [
       "<Figure size 1200x800 with 9 Axes>"
      ]
     },
     "metadata": {},
     "output_type": "display_data"
    }
   ],
   "source": [
    "\n",
    "attributes=[\"Porosity_%\",\"Depth_ft\",\"Viscosity_cp\"]\n",
    "scatter_matrix(df[attributes],figsize=(12,8))"
   ]
  },
  {
   "cell_type": "code",
   "execution_count": null,
   "id": "02e6f882-ad8a-4d43-9c90-5e9df59bb1a2",
   "metadata": {
    "tags": []
   },
   "outputs": [],
   "source": []
  },
  {
   "cell_type": "code",
   "execution_count": 29,
   "id": "8a65db32-ea68-4943-8cec-9307d2512206",
   "metadata": {
    "tags": []
   },
   "outputs": [],
   "source": [
    "from sklearn.impute import SimpleImputer\n",
    "Imputer=SimpleImputer(strategy=\"median\")"
   ]
  },
  {
   "cell_type": "code",
   "execution_count": 30,
   "id": "6eef41d5-a959-47e0-aefa-c1bfd08a432b",
   "metadata": {
    "tags": []
   },
   "outputs": [
    {
     "data": {
      "text/plain": [
       "array([[4.500e+03, 3.500e+01, 2.700e+03, ..., 1.900e+03, 9.500e+01,\n",
       "        7.500e+01],\n",
       "       [3.000e+01, 6.000e+01, 1.000e+00, ..., 6.000e+00, 1.100e+02,\n",
       "        4.500e+01],\n",
       "       [1.000e+03, 3.200e+01, 7.500e+02, ..., 1.500e+04, 1.550e+02,\n",
       "        5.500e+01],\n",
       "       ...,\n",
       "       [7.300e+03, 2.460e+01, 1.714e+02, ..., 1.060e+01, 2.630e+02,\n",
       "        9.600e+01],\n",
       "       [7.800e+02, 8.900e+00, 1.890e+01, ..., 6.000e-01, 8.200e+01,\n",
       "        4.600e+01],\n",
       "       [7.700e+03, 2.310e+01, 1.641e+02, ..., 1.030e+01, 2.590e+02,\n",
       "        9.400e+01]])"
      ]
     },
     "execution_count": 30,
     "metadata": {},
     "output_type": "execute_result"
    }
   ],
   "source": [
    "\n",
    "Imputer.fit_transform(X.drop(columns=\"Formation \"))"
   ]
  },
  {
   "cell_type": "code",
   "execution_count": 31,
   "id": "107490f6-58ee-4fe6-a970-4fd6726ae13c",
   "metadata": {
    "tags": []
   },
   "outputs": [
    {
     "data": {
      "text/html": [
       "<div>\n",
       "<style scoped>\n",
       "    .dataframe tbody tr th:only-of-type {\n",
       "        vertical-align: middle;\n",
       "    }\n",
       "\n",
       "    .dataframe tbody tr th {\n",
       "        vertical-align: top;\n",
       "    }\n",
       "\n",
       "    .dataframe thead th {\n",
       "        text-align: right;\n",
       "    }\n",
       "</style>\n",
       "<table border=\"1\" class=\"dataframe\">\n",
       "  <thead>\n",
       "    <tr style=\"text-align: right;\">\n",
       "      <th></th>\n",
       "      <th>Area_acres</th>\n",
       "      <th>Formation</th>\n",
       "      <th>Porosity_%</th>\n",
       "      <th>permeability_md</th>\n",
       "      <th>Depth_ft</th>\n",
       "      <th>Gravity (API)</th>\n",
       "      <th>Viscosity_cp</th>\n",
       "      <th>Temprature_F</th>\n",
       "      <th>sat_%_100</th>\n",
       "    </tr>\n",
       "  </thead>\n",
       "  <tbody>\n",
       "    <tr>\n",
       "      <th>0</th>\n",
       "      <td>4500.0</td>\n",
       "      <td>US</td>\n",
       "      <td>35.0</td>\n",
       "      <td>2700.0</td>\n",
       "      <td>850</td>\n",
       "      <td>135.0</td>\n",
       "      <td>1900.0</td>\n",
       "      <td>95.0</td>\n",
       "      <td>75.0</td>\n",
       "    </tr>\n",
       "    <tr>\n",
       "      <th>1</th>\n",
       "      <td>30.0</td>\n",
       "      <td>S</td>\n",
       "      <td>60.0</td>\n",
       "      <td>1.0</td>\n",
       "      <td>1400</td>\n",
       "      <td>28.0</td>\n",
       "      <td>6.0</td>\n",
       "      <td>110.0</td>\n",
       "      <td>45.0</td>\n",
       "    </tr>\n",
       "    <tr>\n",
       "      <th>2</th>\n",
       "      <td>1000.0</td>\n",
       "      <td>S</td>\n",
       "      <td>32.0</td>\n",
       "      <td>750.0</td>\n",
       "      <td>3500</td>\n",
       "      <td>9.0</td>\n",
       "      <td>15000.0</td>\n",
       "      <td>155.0</td>\n",
       "      <td>55.0</td>\n",
       "    </tr>\n",
       "    <tr>\n",
       "      <th>3</th>\n",
       "      <td>550.0</td>\n",
       "      <td>S</td>\n",
       "      <td>32.0</td>\n",
       "      <td>1350.0</td>\n",
       "      <td>12375</td>\n",
       "      <td>125.0</td>\n",
       "      <td>21000.0</td>\n",
       "      <td>91.0</td>\n",
       "      <td>60.0</td>\n",
       "    </tr>\n",
       "    <tr>\n",
       "      <th>4</th>\n",
       "      <td>260.0</td>\n",
       "      <td>S</td>\n",
       "      <td>34.0</td>\n",
       "      <td>800.0</td>\n",
       "      <td>825</td>\n",
       "      <td>95.0</td>\n",
       "      <td>19750.0</td>\n",
       "      <td>84.0</td>\n",
       "      <td>55.0</td>\n",
       "    </tr>\n",
       "    <tr>\n",
       "      <th>...</th>\n",
       "      <td>...</td>\n",
       "      <td>...</td>\n",
       "      <td>...</td>\n",
       "      <td>...</td>\n",
       "      <td>...</td>\n",
       "      <td>...</td>\n",
       "      <td>...</td>\n",
       "      <td>...</td>\n",
       "      <td>...</td>\n",
       "    </tr>\n",
       "    <tr>\n",
       "      <th>755</th>\n",
       "      <td>660.0</td>\n",
       "      <td>LS</td>\n",
       "      <td>7.8</td>\n",
       "      <td>10.2</td>\n",
       "      <td>1360</td>\n",
       "      <td>19.7</td>\n",
       "      <td>0.4</td>\n",
       "      <td>80.0</td>\n",
       "      <td>43.0</td>\n",
       "    </tr>\n",
       "    <tr>\n",
       "      <th>756</th>\n",
       "      <td>4840.0</td>\n",
       "      <td>Cong</td>\n",
       "      <td>16.8</td>\n",
       "      <td>114.7</td>\n",
       "      <td>10800</td>\n",
       "      <td>40.2</td>\n",
       "      <td>8.9</td>\n",
       "      <td>245.0</td>\n",
       "      <td>86.0</td>\n",
       "    </tr>\n",
       "    <tr>\n",
       "      <th>757</th>\n",
       "      <td>7300.0</td>\n",
       "      <td>Dolo</td>\n",
       "      <td>24.6</td>\n",
       "      <td>171.4</td>\n",
       "      <td>12100</td>\n",
       "      <td>45.2</td>\n",
       "      <td>10.6</td>\n",
       "      <td>263.0</td>\n",
       "      <td>96.0</td>\n",
       "    </tr>\n",
       "    <tr>\n",
       "      <th>758</th>\n",
       "      <td>780.0</td>\n",
       "      <td>US</td>\n",
       "      <td>8.9</td>\n",
       "      <td>18.9</td>\n",
       "      <td>1520</td>\n",
       "      <td>19.9</td>\n",
       "      <td>0.6</td>\n",
       "      <td>82.0</td>\n",
       "      <td>46.0</td>\n",
       "    </tr>\n",
       "    <tr>\n",
       "      <th>759</th>\n",
       "      <td>7700.0</td>\n",
       "      <td>Tripol</td>\n",
       "      <td>23.1</td>\n",
       "      <td>164.1</td>\n",
       "      <td>11600</td>\n",
       "      <td>43.5</td>\n",
       "      <td>10.3</td>\n",
       "      <td>259.0</td>\n",
       "      <td>94.0</td>\n",
       "    </tr>\n",
       "  </tbody>\n",
       "</table>\n",
       "<p>758 rows × 9 columns</p>\n",
       "</div>"
      ],
      "text/plain": [
       "     Area_acres Formation   Porosity_%  permeability_md  Depth_ft  \\\n",
       "0        4500.0         US        35.0           2700.0       850   \n",
       "1          30.0          S        60.0              1.0      1400   \n",
       "2        1000.0          S        32.0            750.0      3500   \n",
       "3         550.0          S        32.0           1350.0     12375   \n",
       "4         260.0          S        34.0            800.0       825   \n",
       "..          ...        ...         ...              ...       ...   \n",
       "755       660.0         LS         7.8             10.2      1360   \n",
       "756      4840.0       Cong        16.8            114.7     10800   \n",
       "757      7300.0       Dolo        24.6            171.4     12100   \n",
       "758       780.0         US         8.9             18.9      1520   \n",
       "759      7700.0     Tripol        23.1            164.1     11600   \n",
       "\n",
       "     Gravity (API)  Viscosity_cp  Temprature_F  sat_%_100  \n",
       "0            135.0        1900.0          95.0       75.0  \n",
       "1             28.0           6.0         110.0       45.0  \n",
       "2              9.0       15000.0         155.0       55.0  \n",
       "3            125.0       21000.0          91.0       60.0  \n",
       "4             95.0       19750.0          84.0       55.0  \n",
       "..             ...           ...           ...        ...  \n",
       "755           19.7           0.4          80.0       43.0  \n",
       "756           40.2           8.9         245.0       86.0  \n",
       "757           45.2          10.6         263.0       96.0  \n",
       "758           19.9           0.6          82.0       46.0  \n",
       "759           43.5          10.3         259.0       94.0  \n",
       "\n",
       "[758 rows x 9 columns]"
      ]
     },
     "execution_count": 31,
     "metadata": {},
     "output_type": "execute_result"
    }
   ],
   "source": [
    "X.dropna()"
   ]
  },
  {
   "cell_type": "code",
   "execution_count": null,
   "id": "76b261f2-9f20-4c7d-b2a0-6ee12e8638c8",
   "metadata": {
    "tags": []
   },
   "outputs": [],
   "source": [
    "\n"
   ]
  },
  {
   "cell_type": "code",
   "execution_count": null,
   "id": "c78aa456-69a7-4398-a0d7-ea6d9deaa17b",
   "metadata": {},
   "outputs": [],
   "source": []
  },
  {
   "cell_type": "markdown",
   "id": "bccd0e7c-9f89-442c-9373-eb6dccf9559f",
   "metadata": {
    "tags": []
   },
   "source": [
    "# calculating baseline score for the model"
   ]
  },
  {
   "cell_type": "code",
   "execution_count": 32,
   "id": "89252a56-97c1-4b8f-a5d7-5ee3a24e7499",
   "metadata": {
    "tags": []
   },
   "outputs": [],
   "source": [
    "acc_baseline =y_train.value_counts(normalize=True).max()"
   ]
  },
  {
   "cell_type": "code",
   "execution_count": 33,
   "id": "940d36a8-5b62-4ba9-a28c-5b322468eeeb",
   "metadata": {},
   "outputs": [
    {
     "data": {
      "text/plain": [
       "0.10714285714285714"
      ]
     },
     "execution_count": 33,
     "metadata": {},
     "output_type": "execute_result"
    }
   ],
   "source": [
    "acc_baseline"
   ]
  },
  {
   "cell_type": "markdown",
   "id": "6b469fe3-513e-494e-8f6f-4d5fb8a3d079",
   "metadata": {
    "tags": []
   },
   "source": [
    "# after oversampling and synthetic dta addition in data set \n"
   ]
  },
  {
   "cell_type": "code",
   "execution_count": 34,
   "id": "b1293fa7-d226-4f21-ab9b-f1dda9084ea5",
   "metadata": {
    "tags": []
   },
   "outputs": [
    {
     "data": {
      "image/png": "[encoded data removed]",
      "text/plain": [
       "<Figure size 900x900 with 1 Axes>"
      ]
     },
     "metadata": {},
     "output_type": "display_data"
    }
   ],
   "source": [
    "y_oversampled.value_counts().plot.pie(autopct=\"%.2f\", figsize=(9, 9))\n",
    "plt.show()"
   ]
  },
  {
   "cell_type": "code",
   "execution_count": null,
   "id": "9af9f827-cd09-4f42-8651-79f08087b407",
   "metadata": {
    "tags": []
   },
   "outputs": [],
   "source": []
  },
  {
   "cell_type": "markdown",
   "id": "7096acca-5d59-4536-9872-f568a9a13dcb",
   "metadata": {
    "tags": []
   },
   "source": [
    "# making model"
   ]
  },
  {
   "cell_type": "code",
   "execution_count": 35,
   "id": "b2d71794-5312-4d3f-8756-97e7529586fc",
   "metadata": {
    "tags": []
   },
   "outputs": [],
   "source": [
    "from sklearn.model_selection import cross_validate\n",
    "from sklearn.compose import ColumnTransformer\n",
    "from sklearn.preprocessing import OneHotEncoder, StandardScaler\n",
    "from sklearn.metrics import make_scorer, f1_score\n",
    "from imblearn.over_sampling import RandomOverSampler"
   ]
  },
  {
   "cell_type": "code",
   "execution_count": 36,
   "id": "1cfee739-8949-47f8-a8b2-661bf5b1a4b3",
   "metadata": {
    "tags": []
   },
   "outputs": [
    {
     "name": "stdout",
     "output_type": "stream",
     "text": [
      "Index(['Area_acres', 'Formation ', 'Porosity_%', 'permeability_md', 'Depth_ft',\n",
      "       'Gravity (API)', 'Viscosity_cp', 'Temprature_F', 'sat_%_100',\n",
      "       'EOR_method'],\n",
      "      dtype='object')\n"
     ]
    }
   ],
   "source": [
    "\n",
    "\n",
    "\n",
    "\n",
    "print(df.columns)"
   ]
  },
  {
   "cell_type": "code",
   "execution_count": 37,
   "id": "57b7396b-2a09-4bee-af8b-bf9b93904cf9",
   "metadata": {
    "tags": []
   },
   "outputs": [],
   "source": [
    "from sklearn.compose import ColumnTransformer\n",
    "from sklearn.preprocessing import OneHotEncoder\n",
    "from sklearn.tree import DecisionTreeClassifier\n",
    "from sklearn.pipeline import make_pipeline"
   ]
  },
  {
   "cell_type": "code",
   "execution_count": 38,
   "id": "1da8e2b6-d8a2-4061-93e9-96ff6aae50c1",
   "metadata": {},
   "outputs": [],
   "source": [
    "# model_lr=make_pipeline(OneHotEncoder(use_cat_names=True),DecisionTreeClassifier())\n",
    "# # Fit model to training data\n",
    "# model_lr.fit(X_train,y_train)\n",
    "categorical_columns = X_train.select_dtypes(include=['object', 'category'])\n",
    "categorical_columns = X_train.select_dtypes(include=['object', 'category'])\n",
    "\n",
    "# Get the indices of the categorical columns\n",
    "categorical_feature_indices = [\n",
    "    X_train.columns.get_loc(column) for column in categorical_columns\n",
    "]\n",
    "columns_to_scale = X_train.select_dtypes(exclude=[\"object\", \"category\"])\n",
    "numerical_column_indices = [0, 2, 3, 4, 5, 6, 7, 8]\n"
   ]
  },
  {
   "cell_type": "code",
   "execution_count": null,
   "id": "8115cc78-23ca-4323-a2df-c5bf0e02d856",
   "metadata": {
    "tags": []
   },
   "outputs": [],
   "source": [
    "\n"
   ]
  },
  {
   "cell_type": "code",
   "execution_count": 39,
   "id": "7fcb1c98-840a-47d4-973b-91d533293fa7",
   "metadata": {
    "tags": []
   },
   "outputs": [
    {
     "data": {
      "text/plain": [
       "Int64Index([ 259,  204,  427,  813,  771,   77,   84,  615,   82,  938,\n",
       "            ...\n",
       "             343,  769,  130,  871,   87,  330,  466,  121, 1044,  860],\n",
       "           dtype='int64', length=756)"
      ]
     },
     "execution_count": 39,
     "metadata": {},
     "output_type": "execute_result"
    }
   ],
   "source": [
    "categorical_columns.index"
   ]
  },
  {
   "cell_type": "code",
   "execution_count": 40,
   "id": "8ac8666e-796e-4adc-9b83-6b8f438687dc",
   "metadata": {
    "tags": []
   },
   "outputs": [
    {
     "data": {
      "text/plain": [
       "0          US\n",
       "1           S\n",
       "2           S\n",
       "3           S\n",
       "4           S\n",
       "        ...  \n",
       "755        LS\n",
       "756      Cong\n",
       "757      Dolo\n",
       "758        US\n",
       "759    Tripol\n",
       "Name: Formation , Length: 758, dtype: category\n",
       "Categories (17, object): ['Carb', 'Cong', 'Congl', 'Dolo', ..., 'Sh', 'SorLS-Dolo', 'Tripol', 'US']"
      ]
     },
     "execution_count": 40,
     "metadata": {},
     "output_type": "execute_result"
    }
   ],
   "source": [
    "df[\"Formation \"]"
   ]
  },
  {
   "cell_type": "markdown",
   "id": "38d9f662-fced-4c67-a722-11f57c516dcd",
   "metadata": {},
   "source": [
    "#  Applying dimentionality reduction "
   ]
  },
  {
   "cell_type": "code",
   "execution_count": 41,
   "id": "1d306aed-e598-4ef6-85f8-371c6e745cac",
   "metadata": {
    "tags": []
   },
   "outputs": [],
   "source": [
    "from sklearn.preprocessing import StandardScaler"
   ]
  },
  {
   "cell_type": "code",
   "execution_count": 42,
   "id": "5e50cf84-13ca-4d4e-9f55-e6a4aec4862d",
   "metadata": {
    "tags": []
   },
   "outputs": [
    {
     "data": {
      "text/plain": [
       "CategoricalDtype(categories=['Carb', 'Cong', 'Congl', 'Dolo', 'Dolo or S', 'DoloorTripol',\n",
       "                  'L', 'LS', 'LS or Dolo', 'LSDolo', 'LSorDolo', 'S', 'SS',\n",
       "                  'Sh', 'SorLS-Dolo', 'Tripol', 'US'],\n",
       ", ordered=False)"
      ]
     },
     "execution_count": 42,
     "metadata": {},
     "output_type": "execute_result"
    }
   ],
   "source": [
    "X_train[\"Formation \"].dtype"
   ]
  },
  {
   "cell_type": "code",
   "execution_count": 43,
   "id": "56ed465d-4982-49bc-a5bd-28a690eb14d5",
   "metadata": {
    "tags": []
   },
   "outputs": [],
   "source": [
    "# Specify columns for dtypene-hot encoding and scaling\n",
    "\n"
   ]
  },
  {
   "cell_type": "code",
   "execution_count": 44,
   "id": "c14538d2-4a01-4d89-843c-d2c1dc98b6c6",
   "metadata": {
    "tags": []
   },
   "outputs": [
    {
     "name": "stdout",
     "output_type": "stream",
     "text": [
      "<class 'pandas.core.frame.DataFrame'>\n",
      "Int64Index: 756 entries, 259 to 860\n",
      "Data columns (total 9 columns):\n",
      " #   Column           Non-Null Count  Dtype   \n",
      "---  ------           --------------  -----   \n",
      " 0   Area_acres       756 non-null    float64 \n",
      " 1   Formation        756 non-null    category\n",
      " 2   Porosity_%       756 non-null    float64 \n",
      " 3   permeability_md  756 non-null    float64 \n",
      " 4   Depth_ft         756 non-null    int64   \n",
      " 5   Gravity (API)    756 non-null    float64 \n",
      " 6   Viscosity_cp     756 non-null    float64 \n",
      " 7   Temprature_F     756 non-null    float64 \n",
      " 8   sat_%_100        756 non-null    float64 \n",
      "dtypes: category(1), float64(7), int64(1)\n",
      "memory usage: 54.6 KB\n"
     ]
    }
   ],
   "source": [
    "X_train.info()"
   ]
  },
  {
   "cell_type": "code",
   "execution_count": null,
   "id": "4583980c-edea-4af4-bde3-7eda02af8df8",
   "metadata": {
    "tags": []
   },
   "outputs": [],
   "source": []
  },
  {
   "cell_type": "code",
   "execution_count": null,
   "id": "45582c98-902e-4f8d-8c27-a2ff004be36c",
   "metadata": {
    "tags": []
   },
   "outputs": [],
   "source": []
  },
  {
   "cell_type": "markdown",
   "id": "f093dbe7-42c5-430b-a9d4-6fd19fde7048",
   "metadata": {},
   "source": [
    "# Applying PCA"
   ]
  },
  {
   "cell_type": "code",
   "execution_count": 45,
   "id": "8db3e9b4-786e-4024-a527-bde056970f0e",
   "metadata": {
    "tags": []
   },
   "outputs": [
    {
     "name": "stdout",
     "output_type": "stream",
     "text": [
      "Accuracy for each fold: [0.83552632 0.82781457 0.81456954 0.85430464 0.82119205]\n",
      "Mean Accuracy: 0.8306814220982922\n"
     ]
    }
   ],
   "source": [
    "from sklearn.compose import ColumnTransformer\n",
    "from sklearn.preprocessing import OneHotEncoder, StandardScaler\n",
    "from sklearn.decomposition import PCA\n",
    "from sklearn.pipeline import make_pipeline\n",
    "from sklearn.tree import DecisionTreeClassifier\n",
    "from sklearn.model_selection import cross_val_score\n",
    "\n",
    "# Step 2: Define transformers\n",
    "encoder = OneHotEncoder(handle_unknown='ignore', sparse_output=False)  # sparse=False to get a dense array\n",
    "scaler = StandardScaler()\n",
    "pca = PCA(0.95)\n",
    "\n",
    "# Define the transformations for the ColumnTransformer\n",
    "transformers = [\n",
    "    ('encoder', encoder, categorical_feature_indices),\n",
    "    ('scaler', scaler, numerical_column_indices)\n",
    "]\n",
    "\n",
    "# Step 3: Create the ColumnTransformer\n",
    "column_transformer = ColumnTransformer(transformers, remainder='passthrough')\n",
    "\n",
    "# Step 4: Create the pipeline with the column transformer, PCA, and the classifier\n",
    "model_pipeline = make_pipeline(column_transformer, pca, DecisionTreeClassifier())\n",
    "\n",
    "# Step 5: Fit the model to the training data\n",
    "model_ds = model_pipeline.fit(X_train, y_train)\n",
    "cv_scores = cross_val_score(model_ds, X_train, y_train, cv=5, scoring='accuracy')\n",
    "\n",
    "# Print the accuracy for each fold and the mean accuracy\n",
    "print(\"Accuracy for each fold:\", cv_scores)\n",
    "print(\"Mean Accuracy:\", np.mean(cv_scores))\n",
    "\n",
    "\n"
   ]
  },
  {
   "cell_type": "code",
   "execution_count": 46,
   "id": "e363c234-22aa-455c-8802-78d19cd056de",
   "metadata": {
    "tags": []
   },
   "outputs": [
    {
     "data": {
      "text/plain": [
       "0.8827160493827161"
      ]
     },
     "execution_count": 46,
     "metadata": {},
     "output_type": "execute_result"
    }
   ],
   "source": [
    "model_ds.score(X_test,y_test)"
   ]
  },
  {
   "cell_type": "code",
   "execution_count": null,
   "id": "fe2c3fe7-28f4-43ec-914b-ee46f359deac",
   "metadata": {
    "tags": []
   },
   "outputs": [],
   "source": []
  },
  {
   "cell_type": "markdown",
   "id": "4064a01c-dac7-4300-a4e3-653c8ce3b5d3",
   "metadata": {
    "tags": []
   },
   "source": [
    "# Applying hyperparameter optimization"
   ]
  },
  {
   "cell_type": "code",
   "execution_count": 47,
   "id": "06857a29-1f07-4963-adbc-9cf6ed7b22ba",
   "metadata": {
    "tags": []
   },
   "outputs": [
    {
     "name": "stdout",
     "output_type": "stream",
     "text": [
      "Fitting 10 folds for each of 504 candidates, totalling 5040 fits\n",
      "Best parameters found:\n",
      "{'decisiontreeclassifier__criterion': 'gini', 'decisiontreeclassifier__max_depth': 30, 'decisiontreeclassifier__max_features': None, 'decisiontreeclassifier__min_samples_leaf': 1, 'decisiontreeclassifier__min_samples_split': 2}\n",
      "Best mean accuracy: 0.8348245614035088\n"
     ]
    }
   ],
   "source": [
    "# Step 4: Define the transformers and create the pipeline\n",
    "from sklearn.compose import ColumnTransformer\n",
    "from sklearn.preprocessing import OneHotEncoder, StandardScaler\n",
    "from sklearn.decomposition import PCA\n",
    "from sklearn.pipeline import make_pipeline\n",
    "from sklearn.tree import DecisionTreeClassifier\n",
    "from sklearn.model_selection import GridSearchCV\n",
    "\n",
    "# Assuming you have defined categorical_feature_indices, numerical_column_indices, X_train, and y_train\n",
    "\n",
    "# Step 2: Define transformers\n",
    "encoder = OneHotEncoder(handle_unknown='ignore', sparse_output=False)\n",
    "scaler = StandardScaler()\n",
    "pca = PCA(0.95)\n",
    "\n",
    "# Step 3: Define search space for hyperparameters\n",
    "param_grid = {\n",
    "    'decisiontreeclassifier__max_depth': [None, 5, 10, 15, 20, 25, 30],\n",
    "    'decisiontreeclassifier__min_samples_split': [2, 5, 10, 15],\n",
    "    'decisiontreeclassifier__min_samples_leaf': [1, 2, 4],\n",
    "    'decisiontreeclassifier__max_features': ['sqrt', 'log2', None],\n",
    "    'decisiontreeclassifier__criterion': ['gini', 'entropy'],\n",
    "}\n",
    "\n",
    "# Step 4: Define the transformers and create the pipeline\n",
    "transformers = [\n",
    "    ('encoder', encoder, categorical_feature_indices),\n",
    "    ('scaler', scaler, numerical_column_indices)\n",
    "]\n",
    "\n",
    "column_transformer = ColumnTransformer(transformers, remainder='passthrough')\n",
    "\n",
    "model_pipeline = make_pipeline(column_transformer, pca, DecisionTreeClassifier())\n",
    "\n",
    "# Step 5: Create the GridSearchCV instance and fit it\n",
    "grid_search = GridSearchCV(\n",
    "    estimator=model_pipeline,\n",
    "    param_grid=param_grid,\n",
    "    cv=10,  # Use 10-fold cross-validation\n",
    "    scoring='accuracy',\n",
    "    n_jobs=-1,\n",
    "    verbose=4\n",
    ")\n",
    "\n",
    "\n",
    "# Fit the grid search to your data\n",
    "model_ds=grid_search.fit(X_train, y_train)\n",
    "\n",
    "# Step 6: Print the best parameters and the mean accuracy\n",
    "print(\"Best parameters found:\")\n",
    "print(grid_search.best_params_)\n",
    "print(\"Best mean accuracy:\", grid_search.best_score_)\n"
   ]
  },
  {
   "cell_type": "code",
   "execution_count": 48,
   "id": "457c3d57-0cff-4b59-b2ef-d51cbbd4b20a",
   "metadata": {
    "tags": []
   },
   "outputs": [
    {
     "name": "stdout",
     "output_type": "stream",
     "text": [
      "Fitting 10 folds for each of 504 candidates, totalling 5040 fits\n",
      "Fitting 10 folds for each of 504 candidates, totalling 5040 fits\n",
      "Fitting 10 folds for each of 504 candidates, totalling 5040 fits\n",
      "Fitting 10 folds for each of 504 candidates, totalling 5040 fits\n",
      "Fitting 10 folds for each of 504 candidates, totalling 5040 fits\n",
      "Accuracy for each fold: [0.82894737 0.7615894  0.76821192 0.83443709 0.82781457]\n",
      "Mean Accuracy: 0.8042000697107007\n",
      "model accuracy score is:0.8765432098765432\n"
     ]
    }
   ],
   "source": [
    "cv_scores = cross_val_score(model_ds, X_train, y_train, cv=5, scoring='accuracy')\n",
    "\n",
    "# Print the accuracy for each fold and the mean accuracy\n",
    "print(\"Accuracy for each fold:\", cv_scores)\n",
    "print(\"Mean Accuracy:\", np.mean(cv_scores))\n",
    "print(f\"model accuracy score is:{model_ds.score(X_test, y_test)}\")"
   ]
  },
  {
   "cell_type": "code",
   "execution_count": null,
   "id": "2f16bab1-c579-41d6-bbee-4f0b9424903f",
   "metadata": {
    "tags": []
   },
   "outputs": [],
   "source": [
    "\n"
   ]
  },
  {
   "cell_type": "code",
   "execution_count": null,
   "id": "3a18bbd1-6e79-43c3-96e7-4768635e8a53",
   "metadata": {
    "tags": []
   },
   "outputs": [],
   "source": []
  },
  {
   "cell_type": "markdown",
   "id": "ca0421d9-cfc9-4dc2-a033-62f6fc019935",
   "metadata": {},
   "source": [
    "# Decision Tree model"
   ]
  },
  {
   "cell_type": "code",
   "execution_count": null,
   "id": "2a74436e-431d-4634-9b9d-7fe293b86c85",
   "metadata": {
    "tags": []
   },
   "outputs": [],
   "source": []
  },
  {
   "cell_type": "code",
   "execution_count": null,
   "id": "5143064b-63a9-4a2b-b890-efb5d20dd5f3",
   "metadata": {
    "tags": []
   },
   "outputs": [],
   "source": []
  },
  {
   "cell_type": "code",
   "execution_count": 49,
   "id": "1b499249-1f48-4186-aff7-a02823301652",
   "metadata": {
    "tags": []
   },
   "outputs": [],
   "source": [
    "# model_lr.score(X_test,y_test)"
   ]
  },
  {
   "cell_type": "code",
   "execution_count": 50,
   "id": "a9df220a-9e15-4d90-bc54-807de703409d",
   "metadata": {
    "tags": []
   },
   "outputs": [],
   "source": [
    "lr_train_acc = accuracy_score(y_train,model_ds.predict(X_train))\n",
    "lr_val_acc = accuracy_score(y_test,model_ds.predict(X_test)) "
   ]
  },
  {
   "cell_type": "code",
   "execution_count": 51,
   "id": "5713440d-6f17-46a4-8c11-a77a3f766841",
   "metadata": {
    "tags": []
   },
   "outputs": [
    {
     "name": "stdout",
     "output_type": "stream",
     "text": [
      "training accuracy is: 1.0\n",
      "validatoion accuracy: 0.8765432098765432\n"
     ]
    }
   ],
   "source": [
    "print(\"training accuracy is:\",lr_train_acc)\n",
    "print(\"validatoion accuracy:\",lr_val_acc)"
   ]
  },
  {
   "cell_type": "code",
   "execution_count": null,
   "id": "675608a0-05aa-429c-b8e9-1936e40461d4",
   "metadata": {
    "tags": []
   },
   "outputs": [],
   "source": []
  },
  {
   "cell_type": "code",
   "execution_count": 52,
   "id": "45bfadc2-80d6-4de6-9a59-728b15d3677e",
   "metadata": {
    "tags": []
   },
   "outputs": [],
   "source": [
    " y_pred=model_ds.predict(X_test)"
   ]
  },
  {
   "cell_type": "code",
   "execution_count": 53,
   "id": "0d58aeaa-7139-40e4-9f23-4208267864e0",
   "metadata": {
    "tags": []
   },
   "outputs": [],
   "source": [
    " from sklearn.metrics import accuracy_score,confusion_matrix,classification_report"
   ]
  },
  {
   "cell_type": "code",
   "execution_count": 54,
   "id": "0d97bf91-ac22-43cc-a9ef-cf9cec5ca104",
   "metadata": {
    "tags": []
   },
   "outputs": [
    {
     "name": "stdout",
     "output_type": "stream",
     "text": [
      "[[23  0  0  0  2  0  0  1  1  0]\n",
      " [ 0 29  0  0  0  0  0  0  0  0]\n",
      " [ 0  0 35  0  1  0  0  0  0  0]\n",
      " [ 0  0  0 34  1  0  0  2  1  0]\n",
      " [ 1  0  0  0 26  0  0  3  0  0]\n",
      " [ 1  1  0  0  0 25  4  2  0  0]\n",
      " [ 0  0  0  0  0  2 33  3  3  0]\n",
      " [ 1  0  0  3  0  1  1 23  0  0]\n",
      " [ 0  0  0  0  3  0  0  0 25  0]\n",
      " [ 2  0  0  0  0  0  0  0  0 31]]\n",
      "              precision    recall  f1-score   support\n",
      "\n",
      " C02Missible       0.82      0.85      0.84        27\n",
      "       CO2im       0.97      1.00      0.98        29\n",
      "  Combustion       1.00      0.97      0.99        36\n",
      " HCimmicible       0.92      0.89      0.91        38\n",
      "  HCmissible       0.79      0.87      0.83        30\n",
      "   Microbial       0.89      0.76      0.82        33\n",
      " N2Imiscible       0.87      0.80      0.84        41\n",
      "  N2miscible       0.68      0.79      0.73        29\n",
      " Polymer/che       0.83      0.89      0.86        28\n",
      "       Steam       1.00      0.94      0.97        33\n",
      "\n",
      "    accuracy                           0.88       324\n",
      "   macro avg       0.88      0.88      0.88       324\n",
      "weighted avg       0.88      0.88      0.88       324\n",
      "\n"
     ]
    }
   ],
   "source": [
    "print(confusion_matrix(y_test,y_pred))\n",
    "print(classification_report(y_test,y_pred))"
   ]
  },
  {
   "cell_type": "code",
   "execution_count": 55,
   "id": "43a6794e-e3eb-4e25-888f-9c163d83b461",
   "metadata": {
    "tags": []
   },
   "outputs": [],
   "source": [
    "#Optimization of Decission Tree model Using Byesian technique"
   ]
  },
  {
   "cell_type": "code",
   "execution_count": null,
   "id": "5840fb5c-fdc0-4869-9863-90b4e764ff73",
   "metadata": {
    "tags": []
   },
   "outputs": [],
   "source": []
  },
  {
   "cell_type": "code",
   "execution_count": null,
   "id": "ba865a6e-3274-4f1f-b6e7-4fcf0d484442",
   "metadata": {
    "tags": []
   },
   "outputs": [],
   "source": []
  },
  {
   "cell_type": "code",
   "execution_count": 56,
   "id": "8f7786ba-da6d-42c1-b6af-a5a4803e6cde",
   "metadata": {
    "tags": []
   },
   "outputs": [
    {
     "name": "stdout",
     "output_type": "stream",
     "text": [
      "Class 0 - TP: 6, TN: 33, FP: 1, FN: 0\n",
      "Class 1 - TP: 4, TN: 36, FP: 0, FN: 0\n",
      "Class 2 - TP: 2, TN: 36, FP: 2, FN: 0\n",
      "Class 3 - TP: 1, TN: 39, FP: 0, FN: 0\n",
      "Class 4 - TP: 0, TN: 38, FP: 1, FN: 1\n",
      "Class 5 - TP: 0, TN: 39, FP: 0, FN: 1\n",
      "Class 6 - TP: 5, TN: 31, FP: 2, FN: 2\n",
      "Class 7 - TP: 9, TN: 26, FP: 1, FN: 4\n",
      "Class 8 - TP: 3, TN: 33, FP: 2, FN: 2\n",
      "Class 9 - TP: 0, TN: 39, FP: 1, FN: 0\n"
     ]
    }
   ],
   "source": [
    "import numpy as np\n",
    "\n",
    "# Assuming cm is the confusion matrix\n",
    "# Convert cm to a numpy array for easier manipulation\n",
    "cm = np.array([[6, 0, 0, 0, 0, 0, 0, 0, 0, 0],\n",
    "               [0, 4, 0, 0, 0, 0, 0, 0, 0, 0],\n",
    "               [0, 0, 2, 0, 0, 0, 0, 0, 0, 0],\n",
    "               [0, 0, 0, 1, 0, 0, 0, 0, 0, 0],\n",
    "               [0, 0, 0, 0, 0, 0, 1, 0, 0, 0],\n",
    "               [0, 0, 0, 0, 1, 0, 0, 0, 0, 0],\n",
    "               [1, 0, 0, 0, 0, 0, 5, 0, 0, 1],\n",
    "               [0, 0, 2, 0, 0, 0, 0, 9, 2, 0],\n",
    "               [0, 0, 0, 0, 0, 0, 1, 1, 3, 0],\n",
    "               [0, 0, 0, 0, 0, 0, 0, 0, 0, 0]])\n",
    "\n",
    "# Calculate true positives (TP), true negatives (TN), false positives (FP), and false negatives (FN) for each class\n",
    "TP = np.diag(cm)\n",
    "TN = np.sum(cm) - (np.sum(cm, axis=0) + np.sum(cm, axis=1) - TP)\n",
    "FP = np.sum(cm, axis=0) - TP\n",
    "FN = np.sum(cm, axis=1) - TP\n",
    "\n",
    "# Print the true/false values for each class\n",
    "for i in range(len(TP)):\n",
    "    print(f\"Class {i} - TP: {TP[i]}, TN: {TN[i]}, FP: {FP[i]}, FN: {FN[i]}\")\n"
   ]
  },
  {
   "cell_type": "code",
   "execution_count": 57,
   "id": "da2c5c39-2e61-4dfc-93de-07c777b75b25",
   "metadata": {
    "tags": []
   },
   "outputs": [
    {
     "name": "stdout",
     "output_type": "stream",
     "text": [
      "0.8765432098765432\n"
     ]
    }
   ],
   "source": [
    "print(accuracy_score(y_test,y_pred))"
   ]
  },
  {
   "cell_type": "code",
   "execution_count": null,
   "id": "b8080b07-4d7c-44a2-aa76-90b75ee5ed17",
   "metadata": {},
   "outputs": [],
   "source": []
  },
  {
   "cell_type": "markdown",
   "id": "b428c6d6-6974-4bfd-b63a-f5f989901dbf",
   "metadata": {
    "tags": []
   },
   "source": [
    "# new Data "
   ]
  },
  {
   "cell_type": "code",
   "execution_count": null,
   "id": "99915f68-9b86-4755-8085-95b4d90d7ecb",
   "metadata": {},
   "outputs": [],
   "source": []
  },
  {
   "cell_type": "code",
   "execution_count": 95,
   "id": "3e98b671-9669-462e-b9aa-60035c801bf2",
   "metadata": {
    "tags": []
   },
   "outputs": [],
   "source": [
    "new_data1 = pd.DataFrame({\n",
    "    'Area_acres': ['4360.0'],\n",
    "    'Formation ': ['LS'],\n",
    "    'Porosity_%': [6],\n",
    "    'permeability_md': ['2'],\n",
    "    'Depth_ft': [6700.0],\n",
    "    'Gravity (API)': ['53.0'],\n",
    "    'Viscosity_cp': ['15000.0'],\n",
    "    'Temprature_F': ['155.0'],\n",
    "    'sat_%_100': ['55'],\n",
    "})\n",
    "new_data2 = pd.DataFrame({\n",
    "    'Area_acres': ['800.0'],\n",
    "    'Formation ': ['S'],\n",
    "    'Porosity_%': [32.0],\n",
    "    'permeability_md': ['75.0'],\n",
    "    'Depth_ft': [6700.0],\n",
    "    'Gravity (API)': ['32.0'],\n",
    "    'Viscosity_cp': ['1'],\n",
    "    'Temprature_F': ['107'],\n",
    "    'sat_%_100': ['39'],\n",
    "})"
   ]
  },
  {
   "cell_type": "code",
   "execution_count": null,
   "id": "e5c19c52-dc51-484c-bea9-5a6e45a39a3f",
   "metadata": {
    "tags": []
   },
   "outputs": [],
   "source": []
  },
  {
   "cell_type": "code",
   "execution_count": 96,
   "id": "e966d43b-f63d-4b95-b6ae-6c25c4c79278",
   "metadata": {
    "tags": []
   },
   "outputs": [],
   "source": [
    "\n",
    "\n",
    "prediction_1=model_ds.predict(new_data1)\n",
    "prediction_2=model_ds.predict(new_data2)"
   ]
  },
  {
   "cell_type": "code",
   "execution_count": 97,
   "id": "4aa3cd0a-2be3-4456-be0f-c23443f5be65",
   "metadata": {
    "tags": []
   },
   "outputs": [
    {
     "name": "stdout",
     "output_type": "stream",
     "text": [
      "  Prediction1 prediction2\n",
      "0       Steam       CO2im\n"
     ]
    }
   ],
   "source": [
    "prediction_df1 = pd.DataFrame({'Prediction1': prediction_1,\"prediction2\":prediction_2})\n",
    "print(prediction_df1)"
   ]
  },
  {
   "cell_type": "code",
   "execution_count": null,
   "id": "76db47ac-5688-4ca4-9679-f1fab6ad5e5d",
   "metadata": {},
   "outputs": [],
   "source": []
  },
  {
   "cell_type": "markdown",
   "id": "139eac21-1643-4be3-9d31-c0ea008c2793",
   "metadata": {
    "tags": []
   },
   "source": [
    "# Random Forest"
   ]
  },
  {
   "cell_type": "code",
   "execution_count": 98,
   "id": "6047fe9d-e475-4f65-a1df-77aeea9d5d55",
   "metadata": {
    "tags": []
   },
   "outputs": [
    {
     "name": "stdout",
     "output_type": "stream",
     "text": [
      "Fitting 5 folds for each of 6 candidates, totalling 30 fits\n",
      "Best parameters found:\n",
      "{'randomforestclassifier__criterion': 'gini', 'randomforestclassifier__max_depth': 20, 'randomforestclassifier__max_features': 'sqrt', 'randomforestclassifier__min_samples_leaf': 1, 'randomforestclassifier__min_samples_split': 2, 'randomforestclassifier__n_estimators': 100}\n",
      "Best mean accuracy: 0.8650313698152665\n"
     ]
    }
   ],
   "source": [
    "from sklearn.compose import ColumnTransformer\n",
    "from sklearn.preprocessing import OneHotEncoder, StandardScaler\n",
    "from sklearn.decomposition import PCA\n",
    "from sklearn.pipeline import make_pipeline\n",
    "from sklearn.ensemble import RandomForestClassifier\n",
    "from sklearn.model_selection import GridSearchCV\n",
    "\n",
    "# Assuming you have defined categorical_feature_indices, numerical_column_indices, X_train, and y_train\n",
    "\n",
    "# Step 2: Define transformers\n",
    "encoder = OneHotEncoder(handle_unknown='ignore', sparse_output=False)\n",
    "scaler = StandardScaler()\n",
    "pca = PCA(0.95)\n",
    "\n",
    "# Step 3: Define search space for hyperparameters\n",
    "param_grid = {\n",
    "    'randomforestclassifier__n_estimators': [100],\n",
    "    'randomforestclassifier__max_depth': [None, 10,20],  # Reduce the range of max_depth\n",
    "    'randomforestclassifier__min_samples_split': [2, 5],\n",
    "    'randomforestclassifier__min_samples_leaf': [1],\n",
    "    'randomforestclassifier__max_features': ['sqrt'],  # Set max_features explicitly to 'sqrt'\n",
    "    'randomforestclassifier__criterion': ['gini'],  # Try one criterion first\n",
    "}\n",
    "\n",
    "# Step 4: Define the transformers and create the pipeline\n",
    "transformers = [\n",
    "    ('encoder', encoder, categorical_feature_indices),\n",
    "    ('scaler', scaler, numerical_column_indices)\n",
    "]\n",
    "\n",
    "column_transformer = ColumnTransformer(transformers, remainder='passthrough')\n",
    "\n",
    "model_pipeline = make_pipeline(column_transformer, pca, RandomForestClassifier())\n",
    "\n",
    "# Step 5: Create the GridSearchCV instance and fit it\n",
    "grid_search = GridSearchCV(\n",
    "    estimator=model_pipeline,\n",
    "    param_grid=param_grid,\n",
    "    cv=5,\n",
    "    scoring='accuracy',\n",
    "    n_jobs=-1,  # Use all available CPU cores\n",
    "    verbose=4\n",
    ")\n",
    "\n",
    "# Fit the grid search to your data\n",
    "model_rf=grid_search.fit(X_train, y_train)\n",
    "\n",
    "# Step 6: Print the best parameters and the mean accuracy\n",
    "print(\"Best parameters found:\")\n",
    "print(grid_search.best_params_)\n",
    "print(\"Best mean accuracy:\", grid_search.best_score_)\n"
   ]
  },
  {
   "cell_type": "code",
   "execution_count": 99,
   "id": "12d4da42-e1ce-4184-b269-938f5ce423de",
   "metadata": {
    "tags": []
   },
   "outputs": [
    {
     "name": "stdout",
     "output_type": "stream",
     "text": [
      "[[24  0  0  0  2  1  0  0  0  0]\n",
      " [ 0 29  0  0  0  0  0  0  0  0]\n",
      " [ 0  0 35  1  0  0  0  0  0  0]\n",
      " [ 0  0  0 35  0  0  0  3  0  0]\n",
      " [ 0  0  0  0 28  0  0  1  1  0]\n",
      " [ 0  1  0  0  0 28  2  2  0  0]\n",
      " [ 1  0  1  0  3  0 31  4  1  0]\n",
      " [ 0  0  0  2  0  0  1 26  0  0]\n",
      " [ 1  0  0  0  1  0  0  0 26  0]\n",
      " [ 0  0  0  0  0  0  0  0  0 33]]\n",
      "              precision    recall  f1-score   support\n",
      "\n",
      " C02Missible       0.92      0.89      0.91        27\n",
      "       CO2im       0.97      1.00      0.98        29\n",
      "  Combustion       0.97      0.97      0.97        36\n",
      " HCimmicible       0.92      0.92      0.92        38\n",
      "  HCmissible       0.82      0.93      0.87        30\n",
      "   Microbial       0.97      0.85      0.90        33\n",
      " N2Imiscible       0.91      0.76      0.83        41\n",
      "  N2miscible       0.72      0.90      0.80        29\n",
      " Polymer/che       0.93      0.93      0.93        28\n",
      "       Steam       1.00      1.00      1.00        33\n",
      "\n",
      "    accuracy                           0.91       324\n",
      "   macro avg       0.91      0.91      0.91       324\n",
      "weighted avg       0.92      0.91      0.91       324\n",
      "\n"
     ]
    }
   ],
   "source": [
    " y_pred_rf=model_rf.predict(X_test)\n",
    "print(confusion_matrix(y_test,y_pred_rf))\n",
    "print(classification_report(y_test,y_pred_rf))"
   ]
  },
  {
   "cell_type": "code",
   "execution_count": 100,
   "id": "aaf33a28-8b8a-4edc-b448-20dbc97a7065",
   "metadata": {},
   "outputs": [
    {
     "name": "stdout",
     "output_type": "stream",
     "text": [
      "Class 0 - TP: 20, TN: 296, FP: 1, FN: 7\n",
      "Class 1 - TP: 29, TN: 291, FP: 4, FN: 0\n",
      "Class 2 - TP: 34, TN: 287, FP: 1, FN: 2\n",
      "Class 3 - TP: 37, TN: 285, FP: 1, FN: 1\n",
      "Class 4 - TP: 29, TN: 288, FP: 6, FN: 1\n",
      "Class 5 - TP: 22, TN: 290, FP: 1, FN: 11\n",
      "Class 6 - TP: 34, TN: 275, FP: 8, FN: 7\n",
      "Class 7 - TP: 26, TN: 287, FP: 8, FN: 3\n",
      "Class 8 - TP: 25, TN: 291, FP: 5, FN: 3\n",
      "Class 9 - TP: 33, TN: 291, FP: 0, FN: 0\n"
     ]
    }
   ],
   "source": [
    "import numpy as np\n",
    "\n",
    "# Assuming cm is the confusion matrix\n",
    "# Convert cm to a numpy array for easier manipulation\n",
    "cm = np.array([[20, 0, 0, 0, 2, 1, 0, 3, 1, 0],\n",
    " [0, 29, 0, 0, 0, 0, 0, 0, 0, 0],\n",
    " [0, 0, 34, 0, 0, 0, 0, 0, 2, 0],\n",
    " [0, 0, 0, 37, 0, 0, 0, 1, 0, 0],\n",
    " [0, 0, 0, 0, 29, 0, 0, 0, 1, 0],\n",
    " [0, 3, 0, 0, 0, 22, 7, 1, 0, 0],\n",
    " [0, 0, 1, 0, 2, 0, 34, 3, 1, 0],\n",
    " [1, 0, 0, 1, 0, 0, 1, 26, 0, 0],\n",
    " [0, 1, 0, 0, 2, 0, 0, 0, 25, 0],\n",
    " [0, 0, 0, 0, 0, 0, 0, 0, 0, 33]]\n",
    ")\n",
    "\n",
    "# Calculate true positives (TP), true negatives (TN), false positives (FP), and false negatives (FN) for each class\n",
    "TP = np.diag(cm)\n",
    "TN = np.sum(cm) - (np.sum(cm, axis=0) + np.sum(cm, axis=1) - TP)\n",
    "FP = np.sum(cm, axis=0) - TP\n",
    "FN = np.sum(cm, axis=1) - TP\n",
    "\n",
    "# Print the true/false values for each class\n",
    "for i in range(len(TP)):\n",
    "    print(f\"Class {i} - TP: {TP[i]}, TN: {TN[i]}, FP: {FP[i]}, FN: {FN[i]}\")\n"
   ]
  },
  {
   "cell_type": "code",
   "execution_count": null,
   "id": "3062b4ad-8606-4fec-b79d-9184c24f8134",
   "metadata": {
    "tags": []
   },
   "outputs": [],
   "source": []
  },
  {
   "cell_type": "code",
   "execution_count": null,
   "id": "a6441b95-0660-43e1-8746-dfed5b40407f",
   "metadata": {
    "tags": []
   },
   "outputs": [],
   "source": []
  },
  {
   "cell_type": "code",
   "execution_count": 101,
   "id": "9d3dd689-bd93-41a9-83a5-1037e2907d87",
   "metadata": {
    "tags": []
   },
   "outputs": [
    {
     "name": "stdout",
     "output_type": "stream",
     "text": [
      "Fitting 5 folds for each of 6 candidates, totalling 30 fits\n",
      "Fitting 5 folds for each of 6 candidates, totalling 30 fits\n",
      "Fitting 5 folds for each of 6 candidates, totalling 30 fits\n",
      "Fitting 5 folds for each of 6 candidates, totalling 30 fits\n",
      "Fitting 5 folds for each of 6 candidates, totalling 30 fits\n",
      "Accuracy for each fold: [0.90131579 0.80794702 0.78807947 0.86754967 0.90066225]\n",
      "Mean Accuracy: 0.8531108400139422\n",
      "model accuracy score is:0.9104938271604939\n"
     ]
    }
   ],
   "source": [
    "# Perform cross-validation\n",
    "cv_scores = cross_val_score(model_rf, X_train, y_train, cv=5, scoring='accuracy')\n",
    "\n",
    "# Print the accuracy for each fold and the mean accuracy\n",
    "print(\"Accuracy for each fold:\", cv_scores)\n",
    "print(\"Mean Accuracy:\", np.mean(cv_scores))\n",
    "print(f\"model accuracy score is:{model_rf.score(X_test, y_test)}\")\n"
   ]
  },
  {
   "cell_type": "markdown",
   "id": "dd7234ff-953f-4996-85ef-6e7121dea2b6",
   "metadata": {
    "tags": []
   },
   "source": [
    "# making model Using RandomForest"
   ]
  },
  {
   "cell_type": "code",
   "execution_count": 102,
   "id": "02a115c6-cd13-4e83-9772-6885c7cc0638",
   "metadata": {
    "tags": []
   },
   "outputs": [],
   "source": [
    "RF_train_acc = accuracy_score(y_train,model_rf.predict(X_train))\n",
    "RF_val_acc = accuracy_score(y_test,model_rf.predict(X_test))"
   ]
  },
  {
   "cell_type": "code",
   "execution_count": 103,
   "id": "7f7fd295-7f50-4af1-9a8b-7848fadea17c",
   "metadata": {},
   "outputs": [
    {
     "name": "stdout",
     "output_type": "stream",
     "text": [
      "1.0\n",
      "0.9104938271604939\n"
     ]
    }
   ],
   "source": [
    "print(RF_train_acc)\n",
    "print(RF_val_acc)"
   ]
  },
  {
   "cell_type": "markdown",
   "id": "7ac72bfd-e386-4e63-81e0-65a007b21aaf",
   "metadata": {
    "tags": []
   },
   "source": [
    "# new data for Random forest"
   ]
  },
  {
   "cell_type": "code",
   "execution_count": null,
   "id": "0cf84496-d9fb-4d6f-9df2-af533d7eae2f",
   "metadata": {
    "tags": []
   },
   "outputs": [],
   "source": []
  },
  {
   "cell_type": "code",
   "execution_count": 104,
   "id": "06adaa6f-54e8-4f3a-b4b6-b17a5f8d05b0",
   "metadata": {},
   "outputs": [],
   "source": [
    "new_data1 = pd.DataFrame({\n",
    "    'Area_acres': ['4360.0'],\n",
    "    'Formation ': ['LS'],\n",
    "    'Porosity_%': [6],\n",
    "    'permeability_md': ['2'],\n",
    "    'Depth_ft': [6700.0],\n",
    "    'Gravity (API)': ['53.0'],\n",
    "    'Viscosity_cp': ['15000.0'],\n",
    "    'Temprature_F': ['155.0'],\n",
    "    'sat_%_100': ['55'],\n",
    "})\n",
    "new_data2 = pd.DataFrame({\n",
    "    'Area_acres': ['800.0'],\n",
    "    'Formation ': ['S'],\n",
    "    'Porosity_%': [32.0],\n",
    "    'permeability_md': ['75.0'],\n",
    "    'Depth_ft': [6700.0],\n",
    "    'Gravity (API)': ['32.0'],\n",
    "    'Viscosity_cp': ['1'],\n",
    "    'Temprature_F': ['107'],\n",
    "    'sat_%_100': ['39'],\n",
    "})"
   ]
  },
  {
   "cell_type": "markdown",
   "id": "152070a1-987b-4069-bc36-88ef67aff67a",
   "metadata": {},
   "source": [
    "# predicting"
   ]
  },
  {
   "cell_type": "code",
   "execution_count": 105,
   "id": "0e108b91-41f9-4399-b685-4a9a3d417458",
   "metadata": {
    "tags": []
   },
   "outputs": [],
   "source": [
    "\n",
    "prediction_1=model_rf.predict(new_data1)\n",
    "prediction_2=model_rf.predict(new_data2)"
   ]
  },
  {
   "cell_type": "code",
   "execution_count": 106,
   "id": "631b09c4-df88-4f7f-99f2-f8ffa47d79e4",
   "metadata": {
    "tags": []
   },
   "outputs": [
    {
     "name": "stdout",
     "output_type": "stream",
     "text": [
      "  Prediction1  prediction2\n",
      "0       Steam  C02Missible\n"
     ]
    }
   ],
   "source": [
    "prediction_df1 = pd.DataFrame({'Prediction1': prediction_1,\"prediction2\":prediction_2})\n",
    "print(prediction_df1)"
   ]
  },
  {
   "cell_type": "markdown",
   "id": "115fed78-542c-4912-bbd4-5a9b9069d489",
   "metadata": {},
   "source": [
    "# KNN"
   ]
  },
  {
   "cell_type": "code",
   "execution_count": 71,
   "id": "abe412dc-51ba-4c9b-b507-8e39007b2fe3",
   "metadata": {},
   "outputs": [],
   "source": [
    "# Creating model of X-Gboost\n",
    "from sklearn.neighbors import KNeighborsClassifier\n"
   ]
  },
  {
   "cell_type": "code",
   "execution_count": null,
   "id": "a4ddc2f4-0cb5-4b16-8b8f-3b9c0380063f",
   "metadata": {
    "tags": []
   },
   "outputs": [],
   "source": []
  },
  {
   "cell_type": "code",
   "execution_count": 72,
   "id": "7e59c305-6f0c-467c-a2de-19ec5a14495c",
   "metadata": {
    "tags": []
   },
   "outputs": [
    {
     "name": "stdout",
     "output_type": "stream",
     "text": [
      "Fitting 5 folds for each of 12 candidates, totalling 60 fits\n",
      "Best parameters found:\n",
      "{'kneighborsclassifier__metric': 'manhattan', 'kneighborsclassifier__n_neighbors': 3, 'kneighborsclassifier__weights': 'distance'}\n",
      "Best mean accuracy: 0.8531631230393867\n"
     ]
    }
   ],
   "source": [
    "from sklearn.model_selection import GridSearchCV\n",
    "from sklearn.neighbors import KNeighborsClassifier\n",
    "from sklearn.preprocessing import OneHotEncoder, StandardScaler\n",
    "from sklearn.decomposition import PCA\n",
    "from sklearn.pipeline import make_pipeline\n",
    "from sklearn.compose import ColumnTransformer\n",
    "\n",
    "# Assuming you have defined categorical_feature_indices, numerical_column_indices, X_train, and y_train\n",
    "\n",
    "# Step 2: Define transformers\n",
    "encoder = OneHotEncoder(handle_unknown='ignore', sparse_output=False)  # sparse=False to get a dense array\n",
    "scaler = StandardScaler()\n",
    "pca = PCA(0.95)\n",
    "\n",
    "# Define the transformations for the ColumnTransformer\n",
    "transformers = [\n",
    "    ('encoder', encoder, categorical_feature_indices),\n",
    "    ('scaler', scaler, numerical_column_indices)\n",
    "]\n",
    "\n",
    "# Step 3: Create the ColumnTransformer\n",
    "column_transformer = ColumnTransformer(transformers, remainder='passthrough')\n",
    "\n",
    "# Step 4: Create the pipeline with the column transformer, PCA, and the classifier\n",
    "model_pipeline = make_pipeline(column_transformer, pca, KNeighborsClassifier())\n",
    "\n",
    "# Define a parameter grid for KNN hyperparameters\n",
    "param_grid = {\n",
    "    'kneighborsclassifier__n_neighbors': [3, 5, 7],  # Number of neighbors to consider\n",
    "    'kneighborsclassifier__weights': ['uniform', 'distance'],  # Weighting scheme\n",
    "    'kneighborsclassifier__metric': ['euclidean', 'manhattan'],  # Distance metric\n",
    "}\n",
    "\n",
    "# Create the GridSearchCV instance\n",
    "grid_search = GridSearchCV(\n",
    "    estimator=model_pipeline,\n",
    "    param_grid=param_grid,\n",
    "    cv=5,\n",
    "    scoring='accuracy',\n",
    "    n_jobs=-1,\n",
    "    verbose=4\n",
    ")\n",
    "\n",
    "# Fit the grid search to your data\n",
    "model_Knn=grid_search.fit(X_train, y_train)\n",
    "\n",
    "# Print the best parameters and the mean accuracy\n",
    "print(\"Best parameters found:\")\n",
    "print(grid_search.best_params_)\n",
    "print(\"Best mean accuracy:\", grid_search.best_score_)\n"
   ]
  },
  {
   "cell_type": "code",
   "execution_count": 73,
   "id": "5ce5cd59-0c6a-465e-ba52-33a2ddb370ef",
   "metadata": {},
   "outputs": [
    {
     "name": "stdout",
     "output_type": "stream",
     "text": [
      "Fitting 5 folds for each of 12 candidates, totalling 60 fits\n",
      "Fitting 5 folds for each of 12 candidates, totalling 60 fits\n",
      "Fitting 5 folds for each of 12 candidates, totalling 60 fits\n",
      "Fitting 5 folds for each of 12 candidates, totalling 60 fits\n",
      "Fitting 5 folds for each of 12 candidates, totalling 60 fits\n",
      "Accuracy for each fold: [0.86184211 0.83443709 0.79470199 0.88741722 0.8807947 ]\n",
      "Mean Accuracy: 0.8518386197281282\n",
      "Accuracy score is0.8981481481481481\n"
     ]
    }
   ],
   "source": [
    "cv_scores = cross_val_score(model_Knn, X_train, y_train, cv=5, scoring='accuracy')\n",
    "\n",
    "# Print the accuracy for each fold and the mean accuracy\n",
    "print(\"Accuracy for each fold:\", cv_scores)\n",
    "print(\"Mean Accuracy:\", np.mean(cv_scores))\n",
    "\n",
    "print(f\"Accuracy score is{model_Knn.score(X_test,y_test)}\")"
   ]
  },
  {
   "cell_type": "code",
   "execution_count": 74,
   "id": "04ba6dc0-6712-4080-add7-b24ea88db17b",
   "metadata": {},
   "outputs": [],
   "source": [
    "lr_train_acc = accuracy_score(y_train,model_Knn.predict(X_train))\n",
    "lr_val_acc = accuracy_score(y_test,model_Knn.predict(X_test))"
   ]
  },
  {
   "cell_type": "code",
   "execution_count": 75,
   "id": "de973b5e-75c9-4b16-bc34-02504b2c247d",
   "metadata": {
    "tags": []
   },
   "outputs": [
    {
     "name": "stdout",
     "output_type": "stream",
     "text": [
      "1.0\n",
      "0.8981481481481481\n"
     ]
    }
   ],
   "source": [
    "print(lr_train_acc) \n",
    "print(lr_val_acc)"
   ]
  },
  {
   "cell_type": "code",
   "execution_count": 76,
   "id": "fb62b897-cb03-46c6-8b0b-31699c96cb17",
   "metadata": {
    "tags": []
   },
   "outputs": [],
   "source": [
    "prediction_1=model_Knn.predict(new_data1)\n",
    "prediction_2=model_Knn.predict(new_data2)"
   ]
  },
  {
   "cell_type": "code",
   "execution_count": 77,
   "id": "6b00fe4a-1787-4b35-a57f-ed5cdc2f4f7d",
   "metadata": {},
   "outputs": [
    {
     "name": "stdout",
     "output_type": "stream",
     "text": [
      "prediction_1 is['Steam']and prediction_2 is ['N2Imiscible']\n"
     ]
    }
   ],
   "source": [
    "print(f\"prediction_1 is{prediction_1}and prediction_2 is {prediction_2}\")"
   ]
  },
  {
   "cell_type": "code",
   "execution_count": 78,
   "id": "16a7d3e5-9b76-43d1-8ebe-b8e448b671ec",
   "metadata": {
    "tags": []
   },
   "outputs": [
    {
     "name": "stdout",
     "output_type": "stream",
     "text": [
      "[[18  0  0  1  3  1  0  3  1  0]\n",
      " [ 0 29  0  0  0  0  0  0  0  0]\n",
      " [ 0  0 35  0  0  0  0  0  1  0]\n",
      " [ 0  0  0 36  0  0  0  2  0  0]\n",
      " [ 0  0  0  0 28  1  0  0  1  0]\n",
      " [ 0  4  0  0  0 26  2  1  0  0]\n",
      " [ 0  0  1  1  0  1 34  4  0  0]\n",
      " [ 0  0  0  1  0  1  1 26  0  0]\n",
      " [ 0  1  0  0  1  0  0  0 26  0]\n",
      " [ 0  0  0  0  0  0  0  0  0 33]]\n",
      "              precision    recall  f1-score   support\n",
      "\n",
      " C02Missible       1.00      0.67      0.80        27\n",
      "       CO2im       0.85      1.00      0.92        29\n",
      "  Combustion       0.97      0.97      0.97        36\n",
      " HCimmicible       0.92      0.95      0.94        38\n",
      "  HCmissible       0.88      0.93      0.90        30\n",
      "   Microbial       0.87      0.79      0.83        33\n",
      " N2Imiscible       0.92      0.83      0.87        41\n",
      "  N2miscible       0.72      0.90      0.80        29\n",
      " Polymer/che       0.90      0.93      0.91        28\n",
      "       Steam       1.00      1.00      1.00        33\n",
      "\n",
      "    accuracy                           0.90       324\n",
      "   macro avg       0.90      0.90      0.89       324\n",
      "weighted avg       0.91      0.90      0.90       324\n",
      "\n"
     ]
    }
   ],
   "source": [
    "y_pred_Knn=model_Knn.predict(X_test)\n",
    "print(confusion_matrix(y_test,y_pred_Knn))\n",
    "print(classification_report(y_test,y_pred_Knn))"
   ]
  },
  {
   "cell_type": "code",
   "execution_count": 79,
   "id": "460779f1-a145-484a-9238-6b5ea7b12b62",
   "metadata": {
    "tags": []
   },
   "outputs": [
    {
     "name": "stdout",
     "output_type": "stream",
     "text": [
      "Class 0 - TP: 20, TN: 297, FP: 0, FN: 7\n",
      "Class 1 - TP: 29, TN: 290, FP: 5, FN: 0\n",
      "Class 2 - TP: 34, TN: 286, FP: 2, FN: 2\n",
      "Class 3 - TP: 37, TN: 285, FP: 1, FN: 1\n",
      "Class 4 - TP: 29, TN: 292, FP: 2, FN: 1\n",
      "Class 5 - TP: 21, TN: 290, FP: 1, FN: 12\n",
      "Class 6 - TP: 35, TN: 277, FP: 6, FN: 6\n",
      "Class 7 - TP: 27, TN: 283, FP: 12, FN: 2\n",
      "Class 8 - TP: 25, TN: 291, FP: 5, FN: 3\n",
      "Class 9 - TP: 33, TN: 291, FP: 0, FN: 0\n"
     ]
    }
   ],
   "source": [
    "import numpy as np\n",
    "\n",
    "# Assuming cm is the confusion matrix\n",
    "# Convert cm to a numpy array for easier manipulation\n",
    "cm = np.array([[20, 0, 0, 0, 1, 0, 0, 4, 2, 0],\n",
    " [0, 29, 0, 0, 0, 0, 0, 0, 0, 0],\n",
    " [0, 0, 34, 0, 0, 0, 0, 0, 2, 0],\n",
    " [0, 0, 0, 37, 0, 0, 0, 1, 0, 0],\n",
    " [0, 0, 0, 0, 29, 0, 0, 0, 1, 0],\n",
    " [0, 4, 0, 0, 0, 21, 5, 3, 0, 0],\n",
    " [0, 0, 2, 0, 0, 0, 35, 4, 0, 0],\n",
    " [0, 0, 0, 1, 0, 0, 1, 27, 0, 0],\n",
    " [0, 1, 0, 0, 1, 1, 0, 0, 25, 0],\n",
    " [0, 0, 0, 0, 0, 0, 0, 0, 0, 33]]\n",
    ")\n",
    "\n",
    "# Calculate true positives (TP), true negatives (TN), false positives (FP), and false negatives (FN) for each class\n",
    "TP = np.diag(cm)\n",
    "TN = np.sum(cm) - (np.sum(cm, axis=0) + np.sum(cm, axis=1) - TP)\n",
    "FP = np.sum(cm, axis=0) - TP\n",
    "FN = np.sum(cm, axis=1) - TP\n",
    "\n",
    "# Print the true/false values for each class\n",
    "for i in range(len(TP)):\n",
    "    print(f\"Class {i} - TP: {TP[i]}, TN: {TN[i]}, FP: {FP[i]}, FN: {FN[i]}\")\n"
   ]
  },
  {
   "cell_type": "code",
   "execution_count": 80,
   "id": "dce36053-74df-4e86-b7e5-9007e35d5e47",
   "metadata": {},
   "outputs": [],
   "source": [
    "# You can now use the formatted confusion matrix string as needed\n",
    "\n"
   ]
  },
  {
   "cell_type": "markdown",
   "id": "871896f9-63e4-4910-8dea-6506579f9cf1",
   "metadata": {},
   "source": [
    "# XGboost MOdel"
   ]
  },
  {
   "cell_type": "code",
   "execution_count": 81,
   "id": "9305eea8-6421-4631-b480-9a07eb675e88",
   "metadata": {
    "tags": []
   },
   "outputs": [],
   "source": [
    "import xgboost as xgb"
   ]
  },
  {
   "cell_type": "code",
   "execution_count": 82,
   "id": "66b5b987-b8da-49fe-8736-36e1bb47b786",
   "metadata": {
    "tags": []
   },
   "outputs": [
    {
     "name": "stdout",
     "output_type": "stream",
     "text": [
      "Number of classes: 10\n"
     ]
    }
   ],
   "source": [
    "import numpy as np\n",
    "\n",
    "# Assuming your target variable is stored in the variable 'y'\n",
    "classes = np.unique(y_oversampled)\n",
    "num_classes = len(classes)\n",
    "\n",
    "print(\"Number of classes:\", num_classes)\n"
   ]
  },
  {
   "cell_type": "code",
   "execution_count": null,
   "id": "eba9fa1f-a779-42c2-b16a-4f7bba6aa1f7",
   "metadata": {
    "tags": []
   },
   "outputs": [],
   "source": [
    "\n"
   ]
  },
  {
   "cell_type": "code",
   "execution_count": 110,
   "id": "e1925151-79a3-4cd9-920a-d12069ff16b0",
   "metadata": {
    "tags": []
   },
   "outputs": [],
   "source": [
    "from sklearn.preprocessing import LabelEncoder\n",
    "# Giving categorical target variables numeric labels\n",
    "label_encoder = LabelEncoder()\n",
    "y_train_encoded = label_encoder.fit_transform(y_train)\n",
    "y_test_encoded = label_encoder.transform(y_test)\n",
    "num_classes = len(label_encoder.classes_)"
   ]
  },
  {
   "cell_type": "code",
   "execution_count": null,
   "id": "026b91ea-23b9-4fc0-8876-473620d9f402",
   "metadata": {
    "tags": []
   },
   "outputs": [],
   "source": []
  },
  {
   "cell_type": "code",
   "execution_count": null,
   "id": "3ff503f7-de11-4db7-bf12-392e113b5438",
   "metadata": {
    "tags": []
   },
   "outputs": [],
   "source": []
  },
  {
   "cell_type": "code",
   "execution_count": null,
   "id": "bf538e03-bf3e-48ba-beeb-7411f4d1e184",
   "metadata": {
    "tags": []
   },
   "outputs": [
    {
     "name": "stdout",
     "output_type": "stream",
     "text": [
      "Fitting 5 folds for each of 18 candidates, totalling 90 fits\n"
     ]
    }
   ],
   "source": [
    "from sklearn.model_selection import GridSearchCV\n",
    "import xgboost as xgb\n",
    "from sklearn.preprocessing import OneHotEncoder\n",
    "from sklearn.decomposition import PCA\n",
    "from sklearn.pipeline import make_pipeline\n",
    "from sklearn.compose import ColumnTransformer\n",
    "\n",
    "# Assuming you have defined categorical_feature_indices, numerical_column_indices, X_train, y_train_encoded, and label_encoder\n",
    "\n",
    "# Step 2: Define transformers\n",
    "encoder = OneHotEncoder(handle_unknown='ignore')\n",
    "pca = PCA(0.95)\n",
    "\n",
    "# Define the transformations for the ColumnTransformer\n",
    "transformers = [\n",
    "    ('encoder', encoder, categorical_feature_indices),\n",
    "    ('pca', pca, numerical_column_indices)\n",
    "]\n",
    "\n",
    "# Step 3: Create the ColumnTransformer\n",
    "column_transformer = ColumnTransformer(transformers, remainder='passthrough')\n",
    "\n",
    "# Step 4: Create the pipeline with the column transformer, PCA, and the XGBoost classifier\n",
    "model_pipeline = make_pipeline(column_transformer, xgb.XGBClassifier(n_estimators=500,objective='multi:softmax', num_class=len(label_encoder.classes_), random_state=0))\n",
    "\n",
    "# Define a parameter grid for XGBoost hyperparameters\n",
    "param_grid = {\n",
    "    'xgbclassifier__n_estimators': [100, 200, 300],\n",
    "    'xgbclassifier__max_depth': [3, 4, 5],\n",
    "    'xgbclassifier__learning_rate': [0.1, 0.01],\n",
    "}\n",
    "\n",
    "# Create the GridSearchCV instance\n",
    "grid_search = GridSearchCV(\n",
    "    estimator=model_pipeline,\n",
    "    param_grid=param_grid,\n",
    "    cv=5,\n",
    "    scoring='accuracy',\n",
    "    n_jobs=-1,\n",
    "    verbose=4\n",
    ")\n",
    "\n",
    "# Fit the grid search to your data\n",
    "model_xgb=grid_search.fit(X_train, y_train_encoded)\n",
    "\n",
    "# Print the best parameters and the mean accuracy\n",
    "print(\"Best parameters found:\")\n",
    "print(grid_search.best_params_)\n",
    "print(\"Best mean accuracy:\", grid_search.best_score_)\n"
   ]
  },
  {
   "cell_type": "code",
   "execution_count": null,
   "id": "46f23076-470b-439a-b138-79d05017c7fa",
   "metadata": {},
   "outputs": [],
   "source": [
    "# dont gorget to use the encoded values otherwise will get zero score"
   ]
  },
  {
   "cell_type": "code",
   "execution_count": null,
   "id": "b255dbb7-bff1-4d1a-a748-605970f6ff67",
   "metadata": {},
   "outputs": [],
   "source": [
    "# Perform cross-validation\n",
    "cv_scores = cross_val_score(model_xgb, X_train, y_train_encoded, cv=5, scoring='accuracy')\n",
    "\n",
    "# Print the accuracy for each fold and the mean accuracy\n",
    "print(\"Accuracy for each fold:\", cv_scores)\n",
    "print(\"Mean Accuracy:\", np.mean(cv_scores))\n",
    "XGB_train_acc = accuracy_score(y_train_encoded,model_xgb.predict(X_train))\n",
    "XGB_val_acc = accuracy_score(y_test_encoded,model_xgb.predict(X_test))"
   ]
  },
  {
   "cell_type": "code",
   "execution_count": null,
   "id": "77851965-8fc3-43a5-bbcd-ba15d5996bb9",
   "metadata": {
    "tags": []
   },
   "outputs": [],
   "source": [
    "print(XGB_train_acc)\n",
    "print(XGB_val_acc)"
   ]
  },
  {
   "cell_type": "code",
   "execution_count": null,
   "id": "5862913c-b121-433d-8b67-919a01970f63",
   "metadata": {},
   "outputs": [],
   "source": [
    "#this will give us numeric predicted values\n",
    "prediction_XGB1=model_xgb.predict(new_data1)\n",
    "prediction_XGB2=model_xgb.predict(new_data2)"
   ]
  },
  {
   "cell_type": "code",
   "execution_count": null,
   "id": "49c685fb-b554-4267-a1e7-6f9620264109",
   "metadata": {},
   "outputs": [],
   "source": [
    "print(f\"predictions are {prediction_XGB1}and {prediction_XGB2}\")"
   ]
  },
  {
   "cell_type": "code",
   "execution_count": null,
   "id": "77cf1faf-4bf6-49bc-baec-8047ba96e01e",
   "metadata": {
    "tags": []
   },
   "outputs": [],
   "source": [
    "# Convert the predicted numeric labels back to the original class labels\n",
    "y_pred1 = label_encoder.inverse_transform(prediction_XGB1)\n",
    "y_pred2=label_encoder.inverse_transform(prediction_XGB2)"
   ]
  },
  {
   "cell_type": "code",
   "execution_count": null,
   "id": "1492d4ed-90a2-4e2e-9deb-a4aa6313597f",
   "metadata": {
    "tags": []
   },
   "outputs": [],
   "source": []
  },
  {
   "cell_type": "code",
   "execution_count": null,
   "id": "6b224de2-83d4-4662-8a95-e538001c2d39",
   "metadata": {
    "tags": []
   },
   "outputs": [],
   "source": [
    "print(f\"predictions are {y_pred1}and {y_pred2}\")"
   ]
  },
  {
   "cell_type": "code",
   "execution_count": null,
   "id": "0ac93761-290d-4521-8ed1-2605289ee115",
   "metadata": {
    "tags": []
   },
   "outputs": [],
   "source": [
    "from sklearn.metrics import confusion_matrix, classification_report, f1_score, recall_score\n",
    "\n",
    "# Assuming you have already trained your model (model_xgb) and made predictions on the test set\n",
    "y_pred = model_xgb.predict(X_test)\n",
    "\n",
    "# Calculate the confusion matrix\n",
    "conf_matrix = confusion_matrix(y_test_encoded, y_pred)\n",
    "print(\"Confusion Matrix:\")\n",
    "print(conf_matrix)\n",
    "\n",
    "# Calculate the classification report, including precision, recall, and F1-score\n",
    "class_report = classification_report(y_test_encoded, y_pred)\n",
    "print(\"Classification Report:\")\n",
    "print(class_report)\n",
    "\n",
    "# Calculate the F1 score\n",
    "f1 = f1_score(y_test_encoded, y_pred, average='weighted')  # You can specify the averaging strategy\n",
    "print(\"Weighted F1 Score:\", f1)\n",
    "\n",
    "# Calculate the recall (sensitivity)\n",
    "recall = recall_score(y_test_encoded, y_pred, average='weighted')  # You can specify the averaging strategy\n",
    "print(\"Weighted Recall (Sensitivity):\", recall)\n"
   ]
  },
  {
   "cell_type": "code",
   "execution_count": null,
   "id": "32378cb2-18c3-4ca9-9440-198ccc4c5789",
   "metadata": {
    "tags": []
   },
   "outputs": [],
   "source": [
    "import numpy as np\n",
    "\n",
    "# Assuming cm is the confusion matrix\n",
    "# Convert cm to a numpy array for easier manipulation\n",
    "cm = np.array([[16,  3,  0,  0,  0,  0,  2,  2,  4,  0],\n",
    " [ 0, 29,  0,  0,  0,  0,  0,  0,  0,  0],\n",
    " [ 0,  4, 26,  0,  0,  0,  0,  0,  3,  3],\n",
    " [ 0,  0,  0, 32,  0,  0,  1,  5,  0,  0],\n",
    " [ 0,  0,  0,  0, 29,  0,  0,  0,  1,  0],\n",
    " [ 0,  0,  0,  0,  0, 23,  7,  3,  0,  0],\n",
    " [ 2,  0,  0,  0,  0,  0, 34,  5,  0,  0],\n",
    " [ 1,  0,  1,  3,  0,  3,  1, 20,  0,  0],\n",
    " [ 1,  1,  1,  0,  0,  0,  0,  0, 25,  0],\n",
    " [ 0,  0,  0,  0,  0,  0,  0,  0,  2, 31]]\n",
    ")\n",
    "\n",
    "# Calculate true positives (TP), true negatives (TN), false positives (FP), and false negatives (FN) for each class\n",
    "TP = np.diag(cm)\n",
    "TN = np.sum(cm) - (np.sum(cm, axis=0) + np.sum(cm, axis=1) - TP)\n",
    "FP = np.sum(cm, axis=0) - TP\n",
    "FN = np.sum(cm, axis=1) - TP\n",
    "\n",
    "# Print the true/false values for each class\n",
    "for i in range(len(TP)):\n",
    "    print(f\"Class {i} - TP: {TP[i]}, TN: {TN[i]}, FP: {FP[i]}, FN: {FN[i]}\")\n"
   ]
  },
  {
   "cell_type": "code",
   "execution_count": null,
   "id": "b25f5503-62ce-44b4-8262-5186f4c82f31",
   "metadata": {
    "tags": []
   },
   "outputs": [],
   "source": [
    "import pandas as pd\n",
    "y_pred_xgb = pd.Series(y_pred)"
   ]
  },
  {
   "cell_type": "code",
   "execution_count": 109,
   "id": "0d4b63e7-07d9-4865-a0e0-7f9bb40ce141",
   "metadata": {},
   "outputs": [
    {
     "name": "stdout",
     "output_type": "stream",
     "text": [
      "Class 0 - TP: 20, TN: 297, FP: 0, FN: 7\n",
      "Class 1 - TP: 29, TN: 290, FP: 5, FN: 0\n",
      "Class 2 - TP: 34, TN: 286, FP: 2, FN: 2\n",
      "Class 3 - TP: 37, TN: 285, FP: 1, FN: 1\n",
      "Class 4 - TP: 29, TN: 292, FP: 2, FN: 1\n",
      "Class 5 - TP: 21, TN: 290, FP: 1, FN: 12\n",
      "Class 6 - TP: 35, TN: 277, FP: 6, FN: 6\n",
      "Class 7 - TP: 27, TN: 283, FP: 12, FN: 2\n",
      "Class 8 - TP: 25, TN: 291, FP: 5, FN: 3\n",
      "Class 9 - TP: 33, TN: 291, FP: 0, FN: 0\n"
     ]
    }
   ],
   "source": [
    "import numpy as np\n",
    "\n",
    "# Assuming cm is the confusion matrix\n",
    "# Convert cm to a numpy array for easier manipulation\n",
    "cm = np.array([[20, 0, 0, 0, 1, 0, 0, 4, 2, 0],\n",
    " [0, 29, 0, 0, 0, 0, 0, 0, 0, 0],\n",
    " [0, 0, 34, 0, 0, 0, 0, 0, 2, 0],\n",
    " [0, 0, 0, 37, 0, 0, 0, 1, 0, 0],\n",
    " [0, 0, 0, 0, 29, 0, 0, 0, 1, 0],\n",
    " [0, 4, 0, 0, 0, 21, 5, 3, 0, 0],\n",
    " [0, 0, 2, 0, 0, 0, 35, 4, 0, 0],\n",
    " [0, 0, 0, 1, 0, 0, 1, 27, 0, 0],\n",
    " [0, 1, 0, 0, 1, 1, 0, 0, 25, 0],\n",
    " [0, 0, 0, 0, 0, 0, 0, 0, 0, 33]]\n",
    ")\n",
    "\n",
    "# Calculate true positives (TP), true negatives (TN), false positives (FP), and false negatives (FN) for each class\n",
    "TP = np.diag(cm)\n",
    "TN = np.sum(cm) - (np.sum(cm, axis=0) + np.sum(cm, axis=1) - TP)\n",
    "FP = np.sum(cm, axis=0) - TP\n",
    "FN = np.sum(cm, axis=1) - TP\n",
    "\n",
    "# Print the true/false values for each class\n",
    "for i in range(len(TP)):\n",
    "    print(f\"Class {i} - TP: {TP[i]}, TN: {TN[i]}, FP: {FP[i]}, FN: {FN[i]}\")\n"
   ]
  },
  {
   "cell_type": "code",
   "execution_count": null,
   "id": "9db08e4c-0feb-41b8-8bd8-6b235ed8b30f",
   "metadata": {},
   "outputs": [],
   "source": []
  },
  {
   "cell_type": "code",
   "execution_count": null,
   "id": "6bba95d6-5531-4536-b0bf-14070e127420",
   "metadata": {
    "tags": []
   },
   "outputs": [],
   "source": []
  },
  {
   "cell_type": "code",
   "execution_count": null,
   "id": "38c6271e-ae78-44e2-911f-34d23a09c381",
   "metadata": {
    "tags": []
   },
   "outputs": [],
   "source": []
  },
  {
   "cell_type": "code",
   "execution_count": null,
   "id": "ae25ebc6-d21b-4492-abf6-f8fde11484b9",
   "metadata": {
    "tags": []
   },
   "outputs": [],
   "source": [
    "\n"
   ]
  },
  {
   "cell_type": "code",
   "execution_count": null,
   "id": "118e89a9-1b3b-4848-ba5b-95cc342a8681",
   "metadata": {
    "tags": []
   },
   "outputs": [],
   "source": []
  },
  {
   "cell_type": "code",
   "execution_count": null,
   "id": "bb800f1c-4b30-4e34-abb3-c1dbf8bb68e9",
   "metadata": {},
   "outputs": [],
   "source": [
    "\n",
    "\n"
   ]
  },
  {
   "cell_type": "code",
   "execution_count": null,
   "id": "52ae298b-eec7-4ff6-ad2d-ab45982a72c3",
   "metadata": {
    "tags": []
   },
   "outputs": [],
   "source": []
  },
  {
   "cell_type": "markdown",
   "id": "11d8c0fd-8e6c-42db-a4ca-4ad22888385c",
   "metadata": {
    "tags": []
   },
   "source": []
  },
  {
   "cell_type": "code",
   "execution_count": null,
   "id": "a00d1b98-df1d-461f-a226-d79c904cf7f8",
   "metadata": {
    "tags": []
   },
   "outputs": [],
   "source": []
  },
  {
   "cell_type": "code",
   "execution_count": null,
   "id": "d821faa1-aebe-4a35-b213-4653b161ac0d",
   "metadata": {
    "tags": []
   },
   "outputs": [],
   "source": []
  },
  {
   "cell_type": "code",
   "execution_count": null,
   "id": "41c72cc7-4c8c-4ba6-87ae-ffc2359bc2d8",
   "metadata": {
    "tags": []
   },
   "outputs": [],
   "source": []
  },
  {
   "cell_type": "code",
   "execution_count": null,
   "id": "af7e8ab0-58f6-4447-80c8-5c2f01ab2a06",
   "metadata": {},
   "outputs": [],
   "source": []
  },
  {
   "cell_type": "code",
   "execution_count": null,
   "id": "5ed73f59-0db3-49d9-85e5-3de90be86eda",
   "metadata": {},
   "outputs": [],
   "source": []
  },
  {
   "cell_type": "code",
   "execution_count": null,
   "id": "b990404f-7aeb-4c01-b998-049b9123b896",
   "metadata": {},
   "outputs": [],
   "source": []
  },
  {
   "cell_type": "code",
   "execution_count": null,
   "id": "de16930b-9787-4bd6-8465-f500935bec89",
   "metadata": {},
   "outputs": [],
   "source": []
  },
  {
   "cell_type": "code",
   "execution_count": null,
   "id": "588146a0-3c99-4706-9e25-84589a436344",
   "metadata": {},
   "outputs": [],
   "source": []
  },
  {
   "cell_type": "code",
   "execution_count": null,
   "id": "3ce2133b-5b48-46dd-a7da-c39a36ae9171",
   "metadata": {},
   "outputs": [],
   "source": []
  },
  {
   "cell_type": "code",
   "execution_count": null,
   "id": "5edbbba8-6f28-4c67-b4f4-1c8af4bf5a51",
   "metadata": {},
   "outputs": [],
   "source": []
  },
  {
   "cell_type": "code",
   "execution_count": null,
   "id": "36b2d0d3-1d5e-4391-8fcc-f3a2cac755ab",
   "metadata": {},
   "outputs": [],
   "source": []
  },
  {
   "cell_type": "code",
   "execution_count": null,
   "id": "e6fdf027-752a-46d9-8a22-84ae9d9fc4e0",
   "metadata": {},
   "outputs": [],
   "source": []
  },
  {
   "cell_type": "code",
   "execution_count": null,
   "id": "91c50a37-5800-406a-b908-4e772161d0b1",
   "metadata": {},
   "outputs": [],
   "source": []
  },
  {
   "cell_type": "code",
   "execution_count": null,
   "id": "877e9c49-1153-416d-8242-05c99ddc6687",
   "metadata": {},
   "outputs": [],
   "source": []
  }
 ],
 "metadata": {
  "kernelspec": {
   "display_name": "Python 3 (ipykernel)",
   "language": "python",
   "name": "python3"
  },
  "language_info": {
   "codemirror_mode": {
    "name": "ipython",
    "version": 3
   },
   "file_extension": ".py",
   "mimetype": "text/x-python",
   "name": "python",
   "nbconvert_exporter": "python",
   "pygments_lexer": "ipython3",
   "version": "3.11.4"
  }
 },
 "nbformat": 4,
 "nbformat_minor": 5
}
